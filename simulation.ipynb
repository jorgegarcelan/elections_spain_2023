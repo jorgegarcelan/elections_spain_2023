{
 "cells": [
  {
   "cell_type": "markdown",
   "metadata": {},
   "source": [
    "## Simulación"
   ]
  },
  {
   "cell_type": "markdown",
   "metadata": {},
   "source": [
    "La forma de interpretar la simulación es la siguiente:\n",
    "Imaginemos que estamos en el día de las elecciones y nos van llegando datos de condados (equivalentes a dataset de train) y queremos hacer un forecast de cómo van a acabar las elecciones, es decir, hacer un forecast de los condados que todavía no tenemos los datos (test). En ese sentido, podríamos hacer un modelo con los datos que sí tenemos (train) y predecir los condados que todavía no tenemos (test). Y así podemos repetir el proceso N veces y crear una simulación."
   ]
  },
  {
   "cell_type": "code",
   "execution_count": 144,
   "metadata": {},
   "outputs": [],
   "source": [
    "import pandas as pd\n",
    "from pandas import read_csv\n",
    "import numpy as np\n",
    "from sklearn.linear_model import LinearRegression\n",
    "from sklearn.ensemble import RandomForestRegressor\n",
    "from sklearn.neighbors import KNeighborsRegressor\n",
    "from sklearn.model_selection import train_test_split\n",
    "import json\n",
    "import plotly.express as px\n",
    "import plotly.graph_objects as go\n",
    "import seaborn as sns\n",
    "import matplotlib.pyplot as plt\n",
    "from scipy.stats import gaussian_kde"
   ]
  },
  {
   "cell_type": "code",
   "execution_count": 128,
   "metadata": {},
   "outputs": [],
   "source": [
    "def load_seats_data(path, state_to_code):\n",
    "    # Cargar datos\n",
    "    seats_data = pd.read_csv(path, header=0, sep=\",\")\n",
    "\n",
    "    # Seleccionar las primeras tres columnas y las columnas que contienen \"2019\"\n",
    "    seats_data = seats_data.iloc[:, [0, 1]]\n",
    "\n",
    "    # Renombrar columnas\n",
    "    seats_data.columns = [\"state\", \"electoral_votes_number\"]\n",
    "\n",
    "    # Añadir District of Columbia pues no aparece\n",
    "    new_row = pd.DataFrame({\n",
    "        'state': ['District of Columbia'],\n",
    "        'electoral_votes_number': [3]\n",
    "    })\n",
    "\n",
    "    # Añadir la nueva fila al DataFrame utilizando pd.concat\n",
    "    seats_data = pd.concat([seats_data, new_row], ignore_index=True)\n",
    "\n",
    "    \n",
    "    seats_data[\"state_code\"] = seats_data['state'].map(state_to_code)\n",
    "\n",
    "    return seats_data"
   ]
  },
  {
   "cell_type": "code",
   "execution_count": 129,
   "metadata": {},
   "outputs": [],
   "source": [
    "# Cargar datos\n",
    "data = read_csv(\"data/final_data.csv\")\n",
    "columns_to_drop = ['Total_2020', 'Other_2020', 'Winner_2020', \"Biden_2020\"]  # Nombres de las columnas a eliminar\n",
    "data_sim = data.drop(columns=columns_to_drop)\n",
    "\n",
    "# Cargar codigo de estados\n",
    "with open(\"data/state_to_code.json\", \"r\") as file:\n",
    "    state_to_code = json.load(file)\n",
    "\n",
    "\n",
    "# Cargar datos de escaños por estado\n",
    "seats_data = load_seats_data(\"data/seats2020.csv\", state_to_code)\n",
    "\n",
    "# Cargar datos de state, county, fips\n",
    "state_fips_county = read_csv('data/state_fips_county.csv')\n",
    "state_names = state_fips_county['state']\n",
    "fips_codes = state_fips_county['fips']\n",
    "county_names = state_fips_county['county']"
   ]
  },
  {
   "cell_type": "code",
   "execution_count": null,
   "metadata": {},
   "outputs": [],
   "source": [
    "user_input = input(\"Escribe tu nombre: \")\n",
    "print(f\"Hola, {user_input}\")"
   ]
  },
  {
   "cell_type": "code",
   "execution_count": 130,
   "metadata": {},
   "outputs": [],
   "source": [
    "n_sim = 100\n",
    "\n",
    "# Inicializar un DataFrame para guardar los resultados de las simulaciones\n",
    "simulation_results = pd.DataFrame(columns=['Biden_Pred', 'Trump_Pred', 'Biden', 'Trump'])\n",
    "\n",
    "# Inicializar un DataFrame para acumular los resultados por estado\n",
    "accumulated_pred_state = pd.DataFrame()\n",
    "\n",
    "for i in range(0, n_sim):\n",
    "\n",
    "    print(f\"Simulation {i}\")\n",
    "\n",
    "    ## Data splitting\n",
    "    # Quitar la columna objetivo ('Perc_Biden_2020') del conjunto de datos\n",
    "    X = data_sim.drop(columns=[\"Perc_Biden_2020\"])  # Características (sin la columna objetivo)\n",
    "    y = data_sim[\"Perc_Biden_2020\"]  # Columna objetivo\n",
    "\n",
    "    # Dividir los datos en 80% para train y 20% para test (cada sim es distinto)\n",
    "    X_train, X_test, y_train, y_test = train_test_split(X, y, test_size=0.2)\n",
    "\n",
    "    ## Models\n",
    "    # Linear Regression\n",
    "    lr_model = LinearRegression()\n",
    "    lr_model.fit(X_train, y_train)\n",
    "    pred_lr = lr_model.predict(X_test)\n",
    "\n",
    "    # Random Forest\n",
    "    rf_model = RandomForestRegressor(n_estimators=100, random_state=i)\n",
    "    rf_model.fit(X_train, y_train)\n",
    "    pred_rf = rf_model.predict(X_test)\n",
    "\n",
    "    # KNN\n",
    "    knn_model = KNeighborsRegressor(n_neighbors=5)  # Puedes ajustar el número de vecinos\n",
    "    knn_model.fit(X_train, y_train)\n",
    "    pred_knn = knn_model.predict(X_test)\n",
    "\n",
    "    # Predicciones combinadas\n",
    "    predictions = (pred_lr + pred_rf + pred_knn) / 3  # Promedio de predicciones de los tres modelos\n",
    "\n",
    "    # Todos los votos por condado, pero usando predicciones\n",
    "    perc_biden_pred = data['Perc_Biden_2020'].copy()\n",
    "    perc_biden_pred.iloc[X_test.index] = predictions\n",
    "\n",
    "    # Agrupar por estado para calcular las predicciones por estado\n",
    "    df_pred = pd.DataFrame({'Votes_Biden_2020': perc_biden_pred * data['Total_2020'], \n",
    "                            'Votes_Trump_2020': (1 - perc_biden_pred - data[\"Perc_Other_2020\"]) * data['Total_2020'], \n",
    "                            'Votes_Total_2020': data['Total_2020'], \n",
    "                            'state': state_names,\n",
    "                            'county': county_names,\n",
    "                            'fips': fips_codes})\n",
    "    df_pred_state = df_pred.groupby('state').agg(Votes_Biden_2020=('Votes_Biden_2020', 'sum'), \n",
    "                                                 Votes_Trump_2020=('Votes_Trump_2020', 'sum'),\n",
    "                                                 Votes_Total_2020=('Votes_Total_2020', 'sum'))\n",
    "    \n",
    "    df_actual = pd.DataFrame({'Votes_Biden_2020': data['Biden_2020'], \n",
    "                            'Votes_Trump_2020': data['Total_2020'] - data['Biden_2020'] - data['Other_2020'], \n",
    "                            'Votes_Total_2020': data['Total_2020'], \n",
    "                            'state': state_names,\n",
    "                            'county': county_names,\n",
    "                            'fips': fips_codes})\n",
    "    df_actual_state = df_actual.groupby('state').agg(Votes_Biden_2020=('Votes_Biden_2020', 'sum'), \n",
    "                                                     Votes_Trump_2020=('Votes_Trump_2020', 'sum'),\n",
    "                                                     Votes_Total_2020=('Votes_Total_2020', 'sum'))\n",
    "    \n",
    "    # Calcular porcentaje de cada candidato en el estado\n",
    "    df_pred_state[\"Perc_Biden_2020\"] = df_pred_state[\"Votes_Biden_2020\"] / df_pred_state[\"Votes_Total_2020\"]\n",
    "    df_pred_state[\"Perc_Trump_2020\"] = df_pred_state[\"Votes_Trump_2020\"] / df_pred_state[\"Votes_Total_2020\"]\n",
    "\n",
    "    df_actual_state[\"Perc_Biden_2020\"] = df_actual_state[\"Votes_Biden_2020\"] / df_actual_state[\"Votes_Total_2020\"]\n",
    "    df_actual_state[\"Perc_Trump_2020\"] = df_actual_state[\"Votes_Trump_2020\"] / df_actual_state[\"Votes_Total_2020\"]\n",
    "\n",
    "    # Acumular los resultados de cada simulación\n",
    "    if accumulated_pred_state.empty:\n",
    "        accumulated_pred_state = df_pred_state.copy()  # Primera iteración, simplemente copiamos los datos\n",
    "    else:\n",
    "        accumulated_pred_state['Votes_Biden_2020'] += df_pred_state['Votes_Biden_2020']\n",
    "        accumulated_pred_state['Votes_Trump_2020'] += df_pred_state['Votes_Trump_2020']\n",
    "        accumulated_pred_state['Votes_Total_2020'] += df_pred_state['Votes_Total_2020']\n",
    "        accumulated_pred_state['Perc_Biden_2020'] += df_pred_state['Perc_Biden_2020']\n",
    "        accumulated_pred_state['Perc_Trump_2020'] += df_pred_state['Perc_Trump_2020']\n",
    "\n",
    "    # Predicción y ganadores\n",
    "    df_pred_state['Winner_2020'] = np.where(df_pred_state['Perc_Biden_2020'] < df_pred_state['Perc_Trump_2020'], 'Trump', 'Biden')\n",
    "    df_actual_state['Winner_2020'] = np.where(df_actual_state['Perc_Biden_2020'] < df_actual_state['Perc_Trump_2020'], 'Trump', 'Biden')\n",
    "    \n",
    "\n",
    "    # Añadir votos electorales (escaños) a cada estado\n",
    "    full_df_pred_state = pd.merge(seats_data, df_pred_state, how='inner', on=[\"state\"])\n",
    "    full_df_actual_state = pd.merge(seats_data, df_actual_state, how='inner', on=[\"state\"])\n",
    "\n",
    "\n",
    "\n",
    "    # Agrupar por estado y sumar los votos\n",
    "    df_pred_winner = full_df_pred_state.groupby(\"Winner_2020\").agg({\n",
    "        \"electoral_votes_number\": \"sum\",  # Sumar los votos electorales de cada candidato\n",
    "    }).reset_index()\n",
    "\n",
    "    df_pred_winner.loc[df_pred_winner['Winner_2020'] == 'Trump', 'electoral_votes_number'] += 3 # Añadir 3 al número de votos electorales de Trump por Alaska\n",
    "\n",
    "\n",
    "    df_actual_winner = full_df_actual_state.groupby(\"Winner_2020\").agg({\n",
    "        \"electoral_votes_number\": \"sum\",  # Sumar los votos electorales de cada candidato\n",
    "    }).reset_index()\n",
    "\n",
    "    df_actual_winner.loc[df_actual_winner['Winner_2020'] == 'Trump', 'electoral_votes_number'] += 3 # Añadir 3 al número de votos electorales de Trump por Alaska\n",
    "\n",
    "\n",
    "    # Crear un nuevo DataFrame con los resultados de esta simulación\n",
    "    new_row = pd.DataFrame({\n",
    "        'Biden_Pred': [df_pred_winner.loc[df_pred_winner['Winner_2020'] == 'Biden', 'electoral_votes_number'].values[0]],\n",
    "        'Trump_Pred': [df_pred_winner.loc[df_pred_winner['Winner_2020'] == 'Trump', 'electoral_votes_number'].values[0]],\n",
    "        'Biden': [df_actual_winner.loc[df_actual_winner['Winner_2020'] == 'Biden', 'electoral_votes_number'].values[0]],\n",
    "        'Trump': [df_actual_winner.loc[df_actual_winner['Winner_2020'] == 'Trump', 'electoral_votes_number'].values[0]],\n",
    "        'Winner': ['Biden' if df_pred_winner.loc[df_pred_winner['Winner_2020'] == 'Biden', 'electoral_votes_number'].values[0] > df_pred_winner.loc[df_pred_winner['Winner_2020'] == 'Trump', 'electoral_votes_number'].values[0] else 'Trump']\n",
    "    })\n",
    "\n",
    "    # Usar concat para añadir la nueva fila\n",
    "    simulation_results = pd.concat([simulation_results, new_row], ignore_index=True)\n",
    "\n",
    "# Después de todas las simulaciones, calcular la media\n",
    "accumulated_pred_state['Votes_Biden_2020'] /= n_sim\n",
    "accumulated_pred_state['Votes_Trump_2020'] /= n_sim\n",
    "accumulated_pred_state['Votes_Total_2020'] /= n_sim\n",
    "accumulated_pred_state['Perc_Biden_2020'] /= n_sim\n",
    "accumulated_pred_state['Perc_Trump_2020'] /= n_sim\n"
   ]
  },
  {
   "cell_type": "code",
   "execution_count": 131,
   "metadata": {},
   "outputs": [
    {
     "data": {
      "text/html": [
       "<div>\n",
       "<style scoped>\n",
       "    .dataframe tbody tr th:only-of-type {\n",
       "        vertical-align: middle;\n",
       "    }\n",
       "\n",
       "    .dataframe tbody tr th {\n",
       "        vertical-align: top;\n",
       "    }\n",
       "\n",
       "    .dataframe thead th {\n",
       "        text-align: right;\n",
       "    }\n",
       "</style>\n",
       "<table border=\"1\" class=\"dataframe\">\n",
       "  <thead>\n",
       "    <tr style=\"text-align: right;\">\n",
       "      <th></th>\n",
       "      <th>Biden_Pred</th>\n",
       "      <th>Trump_Pred</th>\n",
       "      <th>Biden</th>\n",
       "      <th>Trump</th>\n",
       "      <th>Winner</th>\n",
       "    </tr>\n",
       "  </thead>\n",
       "  <tbody>\n",
       "    <tr>\n",
       "      <th>0</th>\n",
       "      <td>296</td>\n",
       "      <td>242</td>\n",
       "      <td>306</td>\n",
       "      <td>232</td>\n",
       "      <td>Biden</td>\n",
       "    </tr>\n",
       "    <tr>\n",
       "      <th>1</th>\n",
       "      <td>292</td>\n",
       "      <td>246</td>\n",
       "      <td>306</td>\n",
       "      <td>232</td>\n",
       "      <td>Biden</td>\n",
       "    </tr>\n",
       "    <tr>\n",
       "      <th>2</th>\n",
       "      <td>290</td>\n",
       "      <td>248</td>\n",
       "      <td>306</td>\n",
       "      <td>232</td>\n",
       "      <td>Biden</td>\n",
       "    </tr>\n",
       "    <tr>\n",
       "      <th>3</th>\n",
       "      <td>280</td>\n",
       "      <td>258</td>\n",
       "      <td>306</td>\n",
       "      <td>232</td>\n",
       "      <td>Biden</td>\n",
       "    </tr>\n",
       "    <tr>\n",
       "      <th>4</th>\n",
       "      <td>278</td>\n",
       "      <td>260</td>\n",
       "      <td>306</td>\n",
       "      <td>232</td>\n",
       "      <td>Biden</td>\n",
       "    </tr>\n",
       "    <tr>\n",
       "      <th>...</th>\n",
       "      <td>...</td>\n",
       "      <td>...</td>\n",
       "      <td>...</td>\n",
       "      <td>...</td>\n",
       "      <td>...</td>\n",
       "    </tr>\n",
       "    <tr>\n",
       "      <th>95</th>\n",
       "      <td>280</td>\n",
       "      <td>258</td>\n",
       "      <td>306</td>\n",
       "      <td>232</td>\n",
       "      <td>Biden</td>\n",
       "    </tr>\n",
       "    <tr>\n",
       "      <th>96</th>\n",
       "      <td>324</td>\n",
       "      <td>214</td>\n",
       "      <td>306</td>\n",
       "      <td>232</td>\n",
       "      <td>Biden</td>\n",
       "    </tr>\n",
       "    <tr>\n",
       "      <th>97</th>\n",
       "      <td>296</td>\n",
       "      <td>242</td>\n",
       "      <td>306</td>\n",
       "      <td>232</td>\n",
       "      <td>Biden</td>\n",
       "    </tr>\n",
       "    <tr>\n",
       "      <th>98</th>\n",
       "      <td>280</td>\n",
       "      <td>258</td>\n",
       "      <td>306</td>\n",
       "      <td>232</td>\n",
       "      <td>Biden</td>\n",
       "    </tr>\n",
       "    <tr>\n",
       "      <th>99</th>\n",
       "      <td>244</td>\n",
       "      <td>294</td>\n",
       "      <td>306</td>\n",
       "      <td>232</td>\n",
       "      <td>Trump</td>\n",
       "    </tr>\n",
       "  </tbody>\n",
       "</table>\n",
       "<p>100 rows × 5 columns</p>\n",
       "</div>"
      ],
      "text/plain": [
       "   Biden_Pred Trump_Pred Biden Trump Winner\n",
       "0         296        242   306   232  Biden\n",
       "1         292        246   306   232  Biden\n",
       "2         290        248   306   232  Biden\n",
       "3         280        258   306   232  Biden\n",
       "4         278        260   306   232  Biden\n",
       "..        ...        ...   ...   ...    ...\n",
       "95        280        258   306   232  Biden\n",
       "96        324        214   306   232  Biden\n",
       "97        296        242   306   232  Biden\n",
       "98        280        258   306   232  Biden\n",
       "99        244        294   306   232  Trump\n",
       "\n",
       "[100 rows x 5 columns]"
      ]
     },
     "execution_count": 131,
     "metadata": {},
     "output_type": "execute_result"
    }
   ],
   "source": [
    "simulation_results"
   ]
  },
  {
   "cell_type": "code",
   "execution_count": 139,
   "metadata": {},
   "outputs": [
    {
     "data": {
      "text/html": [
       "<div>\n",
       "<style scoped>\n",
       "    .dataframe tbody tr th:only-of-type {\n",
       "        vertical-align: middle;\n",
       "    }\n",
       "\n",
       "    .dataframe tbody tr th {\n",
       "        vertical-align: top;\n",
       "    }\n",
       "\n",
       "    .dataframe thead th {\n",
       "        text-align: right;\n",
       "    }\n",
       "</style>\n",
       "<table border=\"1\" class=\"dataframe\">\n",
       "  <thead>\n",
       "    <tr style=\"text-align: right;\">\n",
       "      <th></th>\n",
       "      <th>Votes_Biden_2020</th>\n",
       "      <th>Votes_Trump_2020</th>\n",
       "      <th>Votes_Total_2020</th>\n",
       "      <th>Perc_Biden_2020</th>\n",
       "      <th>Perc_Trump_2020</th>\n",
       "      <th>Winner</th>\n",
       "      <th>state_code</th>\n",
       "      <th>Difference</th>\n",
       "      <th>Status</th>\n",
       "    </tr>\n",
       "    <tr>\n",
       "      <th>state</th>\n",
       "      <th></th>\n",
       "      <th></th>\n",
       "      <th></th>\n",
       "      <th></th>\n",
       "      <th></th>\n",
       "      <th></th>\n",
       "      <th></th>\n",
       "      <th></th>\n",
       "      <th></th>\n",
       "    </tr>\n",
       "  </thead>\n",
       "  <tbody>\n",
       "    <tr>\n",
       "      <th>Alabama</th>\n",
       "      <td>8.758078e+05</td>\n",
       "      <td>1.415008e+06</td>\n",
       "      <td>2323304.0</td>\n",
       "      <td>0.376966</td>\n",
       "      <td>0.609050</td>\n",
       "      <td>Trump</td>\n",
       "      <td>AL</td>\n",
       "      <td>-23.208349</td>\n",
       "      <td>Safe Trump</td>\n",
       "    </tr>\n",
       "    <tr>\n",
       "      <th>Arizona</th>\n",
       "      <td>1.696658e+06</td>\n",
       "      <td>1.637171e+06</td>\n",
       "      <td>3387326.0</td>\n",
       "      <td>0.500884</td>\n",
       "      <td>0.483323</td>\n",
       "      <td>Biden</td>\n",
       "      <td>AZ</td>\n",
       "      <td>1.756159</td>\n",
       "      <td>Toss-Up</td>\n",
       "    </tr>\n",
       "    <tr>\n",
       "      <th>Arkansas</th>\n",
       "      <td>4.300396e+05</td>\n",
       "      <td>7.545394e+05</td>\n",
       "      <td>1219069.0</td>\n",
       "      <td>0.352761</td>\n",
       "      <td>0.618947</td>\n",
       "      <td>Trump</td>\n",
       "      <td>AR</td>\n",
       "      <td>-26.618656</td>\n",
       "      <td>Safe Trump</td>\n",
       "    </tr>\n",
       "    <tr>\n",
       "      <th>California</th>\n",
       "      <td>1.114402e+07</td>\n",
       "      <td>5.971710e+06</td>\n",
       "      <td>17495906.0</td>\n",
       "      <td>0.636950</td>\n",
       "      <td>0.341320</td>\n",
       "      <td>Biden</td>\n",
       "      <td>CA</td>\n",
       "      <td>29.562945</td>\n",
       "      <td>Safe Biden</td>\n",
       "    </tr>\n",
       "    <tr>\n",
       "      <th>Colorado</th>\n",
       "      <td>1.784374e+06</td>\n",
       "      <td>1.384585e+06</td>\n",
       "      <td>3256953.0</td>\n",
       "      <td>0.547866</td>\n",
       "      <td>0.425117</td>\n",
       "      <td>Biden</td>\n",
       "      <td>CO</td>\n",
       "      <td>12.274914</td>\n",
       "      <td>Safe Biden</td>\n",
       "    </tr>\n",
       "    <tr>\n",
       "      <th>Connecticut</th>\n",
       "      <td>1.072796e+06</td>\n",
       "      <td>7.231751e+05</td>\n",
       "      <td>1824280.0</td>\n",
       "      <td>0.588065</td>\n",
       "      <td>0.396417</td>\n",
       "      <td>Biden</td>\n",
       "      <td>CT</td>\n",
       "      <td>19.164869</td>\n",
       "      <td>Safe Biden</td>\n",
       "    </tr>\n",
       "    <tr>\n",
       "      <th>Delaware</th>\n",
       "      <td>2.905690e+05</td>\n",
       "      <td>2.063020e+05</td>\n",
       "      <td>504010.0</td>\n",
       "      <td>0.576514</td>\n",
       "      <td>0.409321</td>\n",
       "      <td>Biden</td>\n",
       "      <td>DE</td>\n",
       "      <td>16.719299</td>\n",
       "      <td>Safe Biden</td>\n",
       "    </tr>\n",
       "    <tr>\n",
       "      <th>District of Columbia</th>\n",
       "      <td>3.098255e+05</td>\n",
       "      <td>2.608354e+04</td>\n",
       "      <td>344356.0</td>\n",
       "      <td>0.899724</td>\n",
       "      <td>0.075746</td>\n",
       "      <td>Biden</td>\n",
       "      <td>DC</td>\n",
       "      <td>82.397847</td>\n",
       "      <td>Safe Biden</td>\n",
       "    </tr>\n",
       "    <tr>\n",
       "      <th>Florida</th>\n",
       "      <td>5.372409e+06</td>\n",
       "      <td>5.593367e+06</td>\n",
       "      <td>11067456.0</td>\n",
       "      <td>0.485424</td>\n",
       "      <td>0.505389</td>\n",
       "      <td>Trump</td>\n",
       "      <td>FL</td>\n",
       "      <td>-1.996468</td>\n",
       "      <td>Toss-Up</td>\n",
       "    </tr>\n",
       "    <tr>\n",
       "      <th>Georgia</th>\n",
       "      <td>2.468578e+06</td>\n",
       "      <td>2.466909e+06</td>\n",
       "      <td>4997716.0</td>\n",
       "      <td>0.493941</td>\n",
       "      <td>0.493607</td>\n",
       "      <td>Biden</td>\n",
       "      <td>GA</td>\n",
       "      <td>0.033375</td>\n",
       "      <td>Toss-Up</td>\n",
       "    </tr>\n",
       "    <tr>\n",
       "      <th>Hawaii</th>\n",
       "      <td>3.662978e+05</td>\n",
       "      <td>1.966962e+05</td>\n",
       "      <td>574469.0</td>\n",
       "      <td>0.637628</td>\n",
       "      <td>0.342397</td>\n",
       "      <td>Biden</td>\n",
       "      <td>HI</td>\n",
       "      <td>29.523187</td>\n",
       "      <td>Safe Biden</td>\n",
       "    </tr>\n",
       "    <tr>\n",
       "      <th>Idaho</th>\n",
       "      <td>2.891489e+05</td>\n",
       "      <td>5.519901e+05</td>\n",
       "      <td>868105.0</td>\n",
       "      <td>0.333081</td>\n",
       "      <td>0.635856</td>\n",
       "      <td>Trump</td>\n",
       "      <td>ID</td>\n",
       "      <td>-30.277592</td>\n",
       "      <td>Safe Trump</td>\n",
       "    </tr>\n",
       "    <tr>\n",
       "      <th>Illinois</th>\n",
       "      <td>3.434505e+06</td>\n",
       "      <td>2.484301e+06</td>\n",
       "      <td>6038850.0</td>\n",
       "      <td>0.568735</td>\n",
       "      <td>0.411386</td>\n",
       "      <td>Biden</td>\n",
       "      <td>IL</td>\n",
       "      <td>15.734859</td>\n",
       "      <td>Safe Biden</td>\n",
       "    </tr>\n",
       "    <tr>\n",
       "      <th>Indiana</th>\n",
       "      <td>1.233194e+06</td>\n",
       "      <td>1.739153e+06</td>\n",
       "      <td>3033198.0</td>\n",
       "      <td>0.406566</td>\n",
       "      <td>0.573373</td>\n",
       "      <td>Trump</td>\n",
       "      <td>IN</td>\n",
       "      <td>-16.680694</td>\n",
       "      <td>Safe Trump</td>\n",
       "    </tr>\n",
       "    <tr>\n",
       "      <th>Iowa</th>\n",
       "      <td>7.389310e+05</td>\n",
       "      <td>9.178020e+05</td>\n",
       "      <td>1690871.0</td>\n",
       "      <td>0.437012</td>\n",
       "      <td>0.542798</td>\n",
       "      <td>Trump</td>\n",
       "      <td>IA</td>\n",
       "      <td>-10.578629</td>\n",
       "      <td>Safe Trump</td>\n",
       "    </tr>\n",
       "    <tr>\n",
       "      <th>Kansas</th>\n",
       "      <td>5.578947e+05</td>\n",
       "      <td>7.588743e+05</td>\n",
       "      <td>1349567.0</td>\n",
       "      <td>0.413388</td>\n",
       "      <td>0.562309</td>\n",
       "      <td>Trump</td>\n",
       "      <td>KS</td>\n",
       "      <td>-14.892160</td>\n",
       "      <td>Safe Trump</td>\n",
       "    </tr>\n",
       "    <tr>\n",
       "      <th>Kentucky</th>\n",
       "      <td>7.763292e+05</td>\n",
       "      <td>1.322791e+06</td>\n",
       "      <td>2136768.0</td>\n",
       "      <td>0.363319</td>\n",
       "      <td>0.619061</td>\n",
       "      <td>Trump</td>\n",
       "      <td>KY</td>\n",
       "      <td>-25.574213</td>\n",
       "      <td>Safe Trump</td>\n",
       "    </tr>\n",
       "    <tr>\n",
       "      <th>Louisiana</th>\n",
       "      <td>8.760209e+05</td>\n",
       "      <td>1.235789e+06</td>\n",
       "      <td>2148062.0</td>\n",
       "      <td>0.407819</td>\n",
       "      <td>0.575304</td>\n",
       "      <td>Trump</td>\n",
       "      <td>LA</td>\n",
       "      <td>-16.748498</td>\n",
       "      <td>Safe Trump</td>\n",
       "    </tr>\n",
       "    <tr>\n",
       "      <th>Maine</th>\n",
       "      <td>4.126621e+05</td>\n",
       "      <td>3.777099e+05</td>\n",
       "      <td>813740.0</td>\n",
       "      <td>0.507118</td>\n",
       "      <td>0.464165</td>\n",
       "      <td>Biden</td>\n",
       "      <td>ME</td>\n",
       "      <td>4.295254</td>\n",
       "      <td>Likely Biden</td>\n",
       "    </tr>\n",
       "    <tr>\n",
       "      <th>Maryland</th>\n",
       "      <td>1.949733e+06</td>\n",
       "      <td>1.011704e+06</td>\n",
       "      <td>3037030.0</td>\n",
       "      <td>0.641987</td>\n",
       "      <td>0.333123</td>\n",
       "      <td>Biden</td>\n",
       "      <td>MD</td>\n",
       "      <td>30.886384</td>\n",
       "      <td>Safe Biden</td>\n",
       "    </tr>\n",
       "    <tr>\n",
       "      <th>Massachusetts</th>\n",
       "      <td>2.350250e+06</td>\n",
       "      <td>1.199154e+06</td>\n",
       "      <td>3631402.0</td>\n",
       "      <td>0.647202</td>\n",
       "      <td>0.330218</td>\n",
       "      <td>Biden</td>\n",
       "      <td>MA</td>\n",
       "      <td>31.698399</td>\n",
       "      <td>Safe Biden</td>\n",
       "    </tr>\n",
       "    <tr>\n",
       "      <th>Michigan</th>\n",
       "      <td>2.777030e+06</td>\n",
       "      <td>2.676862e+06</td>\n",
       "      <td>5539302.0</td>\n",
       "      <td>0.501332</td>\n",
       "      <td>0.483249</td>\n",
       "      <td>Biden</td>\n",
       "      <td>MI</td>\n",
       "      <td>1.808328</td>\n",
       "      <td>Toss-Up</td>\n",
       "    </tr>\n",
       "    <tr>\n",
       "      <th>Minnesota</th>\n",
       "      <td>1.682700e+06</td>\n",
       "      <td>1.518442e+06</td>\n",
       "      <td>3277171.0</td>\n",
       "      <td>0.513461</td>\n",
       "      <td>0.463339</td>\n",
       "      <td>Biden</td>\n",
       "      <td>MN</td>\n",
       "      <td>5.012207</td>\n",
       "      <td>Likely Biden</td>\n",
       "    </tr>\n",
       "    <tr>\n",
       "      <th>Mississippi</th>\n",
       "      <td>5.399215e+05</td>\n",
       "      <td>7.562405e+05</td>\n",
       "      <td>1315178.0</td>\n",
       "      <td>0.410531</td>\n",
       "      <td>0.575010</td>\n",
       "      <td>Trump</td>\n",
       "      <td>MS</td>\n",
       "      <td>-16.447882</td>\n",
       "      <td>Safe Trump</td>\n",
       "    </tr>\n",
       "    <tr>\n",
       "      <th>Missouri</th>\n",
       "      <td>1.243302e+06</td>\n",
       "      <td>1.728448e+06</td>\n",
       "      <td>3025962.0</td>\n",
       "      <td>0.410878</td>\n",
       "      <td>0.571206</td>\n",
       "      <td>Trump</td>\n",
       "      <td>MO</td>\n",
       "      <td>-16.032816</td>\n",
       "      <td>Safe Trump</td>\n",
       "    </tr>\n",
       "    <tr>\n",
       "      <th>Montana</th>\n",
       "      <td>2.408595e+05</td>\n",
       "      <td>3.475285e+05</td>\n",
       "      <td>605750.0</td>\n",
       "      <td>0.397622</td>\n",
       "      <td>0.573716</td>\n",
       "      <td>Trump</td>\n",
       "      <td>MT</td>\n",
       "      <td>-17.609408</td>\n",
       "      <td>Safe Trump</td>\n",
       "    </tr>\n",
       "    <tr>\n",
       "      <th>Nebraska</th>\n",
       "      <td>3.755350e+05</td>\n",
       "      <td>5.558940e+05</td>\n",
       "      <td>956379.0</td>\n",
       "      <td>0.392663</td>\n",
       "      <td>0.581249</td>\n",
       "      <td>Trump</td>\n",
       "      <td>NE</td>\n",
       "      <td>-18.858533</td>\n",
       "      <td>Safe Trump</td>\n",
       "    </tr>\n",
       "    <tr>\n",
       "      <th>Nevada</th>\n",
       "      <td>7.107487e+05</td>\n",
       "      <td>6.626273e+05</td>\n",
       "      <td>1405376.0</td>\n",
       "      <td>0.505736</td>\n",
       "      <td>0.471495</td>\n",
       "      <td>Biden</td>\n",
       "      <td>NV</td>\n",
       "      <td>3.424098</td>\n",
       "      <td>Likely Biden</td>\n",
       "    </tr>\n",
       "    <tr>\n",
       "      <th>New Hampshire</th>\n",
       "      <td>4.169648e+05</td>\n",
       "      <td>3.736102e+05</td>\n",
       "      <td>804430.0</td>\n",
       "      <td>0.518336</td>\n",
       "      <td>0.464441</td>\n",
       "      <td>Biden</td>\n",
       "      <td>NH</td>\n",
       "      <td>5.389489</td>\n",
       "      <td>Likely Biden</td>\n",
       "    </tr>\n",
       "    <tr>\n",
       "      <th>New Jersey</th>\n",
       "      <td>2.621591e+06</td>\n",
       "      <td>1.870018e+06</td>\n",
       "      <td>4564234.0</td>\n",
       "      <td>0.574377</td>\n",
       "      <td>0.409711</td>\n",
       "      <td>Biden</td>\n",
       "      <td>NJ</td>\n",
       "      <td>16.466579</td>\n",
       "      <td>Safe Biden</td>\n",
       "    </tr>\n",
       "    <tr>\n",
       "      <th>New Mexico</th>\n",
       "      <td>4.470723e+05</td>\n",
       "      <td>3.756767e+05</td>\n",
       "      <td>841324.0</td>\n",
       "      <td>0.531391</td>\n",
       "      <td>0.446530</td>\n",
       "      <td>Biden</td>\n",
       "      <td>NM</td>\n",
       "      <td>8.486095</td>\n",
       "      <td>Likely Biden</td>\n",
       "    </tr>\n",
       "    <tr>\n",
       "      <th>New York</th>\n",
       "      <td>5.209317e+06</td>\n",
       "      <td>3.284919e+06</td>\n",
       "      <td>8616205.0</td>\n",
       "      <td>0.604595</td>\n",
       "      <td>0.381249</td>\n",
       "      <td>Biden</td>\n",
       "      <td>NY</td>\n",
       "      <td>22.334641</td>\n",
       "      <td>Safe Biden</td>\n",
       "    </tr>\n",
       "    <tr>\n",
       "      <th>North Carolina</th>\n",
       "      <td>2.664560e+06</td>\n",
       "      <td>2.778505e+06</td>\n",
       "      <td>5524801.0</td>\n",
       "      <td>0.482291</td>\n",
       "      <td>0.502915</td>\n",
       "      <td>Trump</td>\n",
       "      <td>NC</td>\n",
       "      <td>-2.062427</td>\n",
       "      <td>Toss-Up</td>\n",
       "    </tr>\n",
       "    <tr>\n",
       "      <th>North Dakota</th>\n",
       "      <td>1.190812e+05</td>\n",
       "      <td>2.314158e+05</td>\n",
       "      <td>361819.0</td>\n",
       "      <td>0.329118</td>\n",
       "      <td>0.639590</td>\n",
       "      <td>Trump</td>\n",
       "      <td>ND</td>\n",
       "      <td>-31.047156</td>\n",
       "      <td>Safe Trump</td>\n",
       "    </tr>\n",
       "    <tr>\n",
       "      <th>Ohio</th>\n",
       "      <td>2.666839e+06</td>\n",
       "      <td>3.167160e+06</td>\n",
       "      <td>5922202.0</td>\n",
       "      <td>0.450312</td>\n",
       "      <td>0.534794</td>\n",
       "      <td>Trump</td>\n",
       "      <td>OH</td>\n",
       "      <td>-8.448218</td>\n",
       "      <td>Likely Trump</td>\n",
       "    </tr>\n",
       "    <tr>\n",
       "      <th>Oklahoma</th>\n",
       "      <td>5.275091e+05</td>\n",
       "      <td>9.966609e+05</td>\n",
       "      <td>1560699.0</td>\n",
       "      <td>0.337995</td>\n",
       "      <td>0.638599</td>\n",
       "      <td>Trump</td>\n",
       "      <td>OK</td>\n",
       "      <td>-30.060368</td>\n",
       "      <td>Safe Trump</td>\n",
       "    </tr>\n",
       "    <tr>\n",
       "      <th>Oregon</th>\n",
       "      <td>1.295299e+06</td>\n",
       "      <td>1.003532e+06</td>\n",
       "      <td>2374321.0</td>\n",
       "      <td>0.545545</td>\n",
       "      <td>0.422660</td>\n",
       "      <td>Biden</td>\n",
       "      <td>OR</td>\n",
       "      <td>12.288474</td>\n",
       "      <td>Safe Biden</td>\n",
       "    </tr>\n",
       "    <tr>\n",
       "      <th>Pennsylvania</th>\n",
       "      <td>3.438482e+06</td>\n",
       "      <td>3.399704e+06</td>\n",
       "      <td>6925255.0</td>\n",
       "      <td>0.496513</td>\n",
       "      <td>0.490914</td>\n",
       "      <td>Biden</td>\n",
       "      <td>PA</td>\n",
       "      <td>0.559948</td>\n",
       "      <td>Toss-Up</td>\n",
       "    </tr>\n",
       "    <tr>\n",
       "      <th>Rhode Island</th>\n",
       "      <td>3.000604e+05</td>\n",
       "      <td>2.059866e+05</td>\n",
       "      <td>516383.0</td>\n",
       "      <td>0.581081</td>\n",
       "      <td>0.398903</td>\n",
       "      <td>Biden</td>\n",
       "      <td>RI</td>\n",
       "      <td>18.217851</td>\n",
       "      <td>Safe Biden</td>\n",
       "    </tr>\n",
       "    <tr>\n",
       "      <th>South Carolina</th>\n",
       "      <td>1.096259e+06</td>\n",
       "      <td>1.380385e+06</td>\n",
       "      <td>2513329.0</td>\n",
       "      <td>0.436178</td>\n",
       "      <td>0.549226</td>\n",
       "      <td>Trump</td>\n",
       "      <td>SC</td>\n",
       "      <td>-11.304787</td>\n",
       "      <td>Safe Trump</td>\n",
       "    </tr>\n",
       "    <tr>\n",
       "      <th>South Dakota</th>\n",
       "      <td>1.501548e+05</td>\n",
       "      <td>2.613592e+05</td>\n",
       "      <td>422609.0</td>\n",
       "      <td>0.355304</td>\n",
       "      <td>0.618442</td>\n",
       "      <td>Trump</td>\n",
       "      <td>SD</td>\n",
       "      <td>-26.313792</td>\n",
       "      <td>Safe Trump</td>\n",
       "    </tr>\n",
       "    <tr>\n",
       "      <th>Tennessee</th>\n",
       "      <td>1.166020e+06</td>\n",
       "      <td>1.830166e+06</td>\n",
       "      <td>3053851.0</td>\n",
       "      <td>0.381820</td>\n",
       "      <td>0.599298</td>\n",
       "      <td>Trump</td>\n",
       "      <td>TN</td>\n",
       "      <td>-21.747792</td>\n",
       "      <td>Safe Trump</td>\n",
       "    </tr>\n",
       "    <tr>\n",
       "      <th>Texas</th>\n",
       "      <td>5.338586e+06</td>\n",
       "      <td>5.810887e+06</td>\n",
       "      <td>11317911.0</td>\n",
       "      <td>0.471694</td>\n",
       "      <td>0.513424</td>\n",
       "      <td>Trump</td>\n",
       "      <td>TX</td>\n",
       "      <td>-4.173049</td>\n",
       "      <td>Likely Trump</td>\n",
       "    </tr>\n",
       "    <tr>\n",
       "      <th>Utah</th>\n",
       "      <td>5.744225e+05</td>\n",
       "      <td>8.509995e+05</td>\n",
       "      <td>1488289.0</td>\n",
       "      <td>0.385962</td>\n",
       "      <td>0.571797</td>\n",
       "      <td>Trump</td>\n",
       "      <td>UT</td>\n",
       "      <td>-18.583548</td>\n",
       "      <td>Safe Trump</td>\n",
       "    </tr>\n",
       "    <tr>\n",
       "      <th>Vermont</th>\n",
       "      <td>2.273509e+05</td>\n",
       "      <td>1.281731e+05</td>\n",
       "      <td>367428.0</td>\n",
       "      <td>0.618763</td>\n",
       "      <td>0.348839</td>\n",
       "      <td>Biden</td>\n",
       "      <td>VT</td>\n",
       "      <td>26.992443</td>\n",
       "      <td>Safe Biden</td>\n",
       "    </tr>\n",
       "    <tr>\n",
       "      <th>Virginia</th>\n",
       "      <td>2.381915e+06</td>\n",
       "      <td>1.994083e+06</td>\n",
       "      <td>4460524.0</td>\n",
       "      <td>0.533999</td>\n",
       "      <td>0.447051</td>\n",
       "      <td>Biden</td>\n",
       "      <td>VA</td>\n",
       "      <td>8.694782</td>\n",
       "      <td>Likely Biden</td>\n",
       "    </tr>\n",
       "    <tr>\n",
       "      <th>Washington</th>\n",
       "      <td>2.334224e+06</td>\n",
       "      <td>1.620039e+06</td>\n",
       "      <td>4087631.0</td>\n",
       "      <td>0.571046</td>\n",
       "      <td>0.396327</td>\n",
       "      <td>Biden</td>\n",
       "      <td>WA</td>\n",
       "      <td>17.471871</td>\n",
       "      <td>Safe Biden</td>\n",
       "    </tr>\n",
       "    <tr>\n",
       "      <th>West Virginia</th>\n",
       "      <td>2.384574e+05</td>\n",
       "      <td>5.429086e+05</td>\n",
       "      <td>794652.0</td>\n",
       "      <td>0.300078</td>\n",
       "      <td>0.683203</td>\n",
       "      <td>Trump</td>\n",
       "      <td>WV</td>\n",
       "      <td>-38.312508</td>\n",
       "      <td>Safe Trump</td>\n",
       "    </tr>\n",
       "    <tr>\n",
       "      <th>Wisconsin</th>\n",
       "      <td>1.586711e+06</td>\n",
       "      <td>1.654027e+06</td>\n",
       "      <td>3297352.0</td>\n",
       "      <td>0.481208</td>\n",
       "      <td>0.501623</td>\n",
       "      <td>Trump</td>\n",
       "      <td>WI</td>\n",
       "      <td>-2.041527</td>\n",
       "      <td>Toss-Up</td>\n",
       "    </tr>\n",
       "    <tr>\n",
       "      <th>Wyoming</th>\n",
       "      <td>7.796491e+04</td>\n",
       "      <td>1.890851e+05</td>\n",
       "      <td>276765.0</td>\n",
       "      <td>0.281701</td>\n",
       "      <td>0.683197</td>\n",
       "      <td>Trump</td>\n",
       "      <td>WY</td>\n",
       "      <td>-40.149651</td>\n",
       "      <td>Safe Trump</td>\n",
       "    </tr>\n",
       "  </tbody>\n",
       "</table>\n",
       "</div>"
      ],
      "text/plain": [
       "                      Votes_Biden_2020  Votes_Trump_2020  Votes_Total_2020  \\\n",
       "state                                                                        \n",
       "Alabama                   8.758078e+05      1.415008e+06         2323304.0   \n",
       "Arizona                   1.696658e+06      1.637171e+06         3387326.0   \n",
       "Arkansas                  4.300396e+05      7.545394e+05         1219069.0   \n",
       "California                1.114402e+07      5.971710e+06        17495906.0   \n",
       "Colorado                  1.784374e+06      1.384585e+06         3256953.0   \n",
       "Connecticut               1.072796e+06      7.231751e+05         1824280.0   \n",
       "Delaware                  2.905690e+05      2.063020e+05          504010.0   \n",
       "District of Columbia      3.098255e+05      2.608354e+04          344356.0   \n",
       "Florida                   5.372409e+06      5.593367e+06        11067456.0   \n",
       "Georgia                   2.468578e+06      2.466909e+06         4997716.0   \n",
       "Hawaii                    3.662978e+05      1.966962e+05          574469.0   \n",
       "Idaho                     2.891489e+05      5.519901e+05          868105.0   \n",
       "Illinois                  3.434505e+06      2.484301e+06         6038850.0   \n",
       "Indiana                   1.233194e+06      1.739153e+06         3033198.0   \n",
       "Iowa                      7.389310e+05      9.178020e+05         1690871.0   \n",
       "Kansas                    5.578947e+05      7.588743e+05         1349567.0   \n",
       "Kentucky                  7.763292e+05      1.322791e+06         2136768.0   \n",
       "Louisiana                 8.760209e+05      1.235789e+06         2148062.0   \n",
       "Maine                     4.126621e+05      3.777099e+05          813740.0   \n",
       "Maryland                  1.949733e+06      1.011704e+06         3037030.0   \n",
       "Massachusetts             2.350250e+06      1.199154e+06         3631402.0   \n",
       "Michigan                  2.777030e+06      2.676862e+06         5539302.0   \n",
       "Minnesota                 1.682700e+06      1.518442e+06         3277171.0   \n",
       "Mississippi               5.399215e+05      7.562405e+05         1315178.0   \n",
       "Missouri                  1.243302e+06      1.728448e+06         3025962.0   \n",
       "Montana                   2.408595e+05      3.475285e+05          605750.0   \n",
       "Nebraska                  3.755350e+05      5.558940e+05          956379.0   \n",
       "Nevada                    7.107487e+05      6.626273e+05         1405376.0   \n",
       "New Hampshire             4.169648e+05      3.736102e+05          804430.0   \n",
       "New Jersey                2.621591e+06      1.870018e+06         4564234.0   \n",
       "New Mexico                4.470723e+05      3.756767e+05          841324.0   \n",
       "New York                  5.209317e+06      3.284919e+06         8616205.0   \n",
       "North Carolina            2.664560e+06      2.778505e+06         5524801.0   \n",
       "North Dakota              1.190812e+05      2.314158e+05          361819.0   \n",
       "Ohio                      2.666839e+06      3.167160e+06         5922202.0   \n",
       "Oklahoma                  5.275091e+05      9.966609e+05         1560699.0   \n",
       "Oregon                    1.295299e+06      1.003532e+06         2374321.0   \n",
       "Pennsylvania              3.438482e+06      3.399704e+06         6925255.0   \n",
       "Rhode Island              3.000604e+05      2.059866e+05          516383.0   \n",
       "South Carolina            1.096259e+06      1.380385e+06         2513329.0   \n",
       "South Dakota              1.501548e+05      2.613592e+05          422609.0   \n",
       "Tennessee                 1.166020e+06      1.830166e+06         3053851.0   \n",
       "Texas                     5.338586e+06      5.810887e+06        11317911.0   \n",
       "Utah                      5.744225e+05      8.509995e+05         1488289.0   \n",
       "Vermont                   2.273509e+05      1.281731e+05          367428.0   \n",
       "Virginia                  2.381915e+06      1.994083e+06         4460524.0   \n",
       "Washington                2.334224e+06      1.620039e+06         4087631.0   \n",
       "West Virginia             2.384574e+05      5.429086e+05          794652.0   \n",
       "Wisconsin                 1.586711e+06      1.654027e+06         3297352.0   \n",
       "Wyoming                   7.796491e+04      1.890851e+05          276765.0   \n",
       "\n",
       "                      Perc_Biden_2020  Perc_Trump_2020 Winner state_code  \\\n",
       "state                                                                      \n",
       "Alabama                      0.376966         0.609050  Trump         AL   \n",
       "Arizona                      0.500884         0.483323  Biden         AZ   \n",
       "Arkansas                     0.352761         0.618947  Trump         AR   \n",
       "California                   0.636950         0.341320  Biden         CA   \n",
       "Colorado                     0.547866         0.425117  Biden         CO   \n",
       "Connecticut                  0.588065         0.396417  Biden         CT   \n",
       "Delaware                     0.576514         0.409321  Biden         DE   \n",
       "District of Columbia         0.899724         0.075746  Biden         DC   \n",
       "Florida                      0.485424         0.505389  Trump         FL   \n",
       "Georgia                      0.493941         0.493607  Biden         GA   \n",
       "Hawaii                       0.637628         0.342397  Biden         HI   \n",
       "Idaho                        0.333081         0.635856  Trump         ID   \n",
       "Illinois                     0.568735         0.411386  Biden         IL   \n",
       "Indiana                      0.406566         0.573373  Trump         IN   \n",
       "Iowa                         0.437012         0.542798  Trump         IA   \n",
       "Kansas                       0.413388         0.562309  Trump         KS   \n",
       "Kentucky                     0.363319         0.619061  Trump         KY   \n",
       "Louisiana                    0.407819         0.575304  Trump         LA   \n",
       "Maine                        0.507118         0.464165  Biden         ME   \n",
       "Maryland                     0.641987         0.333123  Biden         MD   \n",
       "Massachusetts                0.647202         0.330218  Biden         MA   \n",
       "Michigan                     0.501332         0.483249  Biden         MI   \n",
       "Minnesota                    0.513461         0.463339  Biden         MN   \n",
       "Mississippi                  0.410531         0.575010  Trump         MS   \n",
       "Missouri                     0.410878         0.571206  Trump         MO   \n",
       "Montana                      0.397622         0.573716  Trump         MT   \n",
       "Nebraska                     0.392663         0.581249  Trump         NE   \n",
       "Nevada                       0.505736         0.471495  Biden         NV   \n",
       "New Hampshire                0.518336         0.464441  Biden         NH   \n",
       "New Jersey                   0.574377         0.409711  Biden         NJ   \n",
       "New Mexico                   0.531391         0.446530  Biden         NM   \n",
       "New York                     0.604595         0.381249  Biden         NY   \n",
       "North Carolina               0.482291         0.502915  Trump         NC   \n",
       "North Dakota                 0.329118         0.639590  Trump         ND   \n",
       "Ohio                         0.450312         0.534794  Trump         OH   \n",
       "Oklahoma                     0.337995         0.638599  Trump         OK   \n",
       "Oregon                       0.545545         0.422660  Biden         OR   \n",
       "Pennsylvania                 0.496513         0.490914  Biden         PA   \n",
       "Rhode Island                 0.581081         0.398903  Biden         RI   \n",
       "South Carolina               0.436178         0.549226  Trump         SC   \n",
       "South Dakota                 0.355304         0.618442  Trump         SD   \n",
       "Tennessee                    0.381820         0.599298  Trump         TN   \n",
       "Texas                        0.471694         0.513424  Trump         TX   \n",
       "Utah                         0.385962         0.571797  Trump         UT   \n",
       "Vermont                      0.618763         0.348839  Biden         VT   \n",
       "Virginia                     0.533999         0.447051  Biden         VA   \n",
       "Washington                   0.571046         0.396327  Biden         WA   \n",
       "West Virginia                0.300078         0.683203  Trump         WV   \n",
       "Wisconsin                    0.481208         0.501623  Trump         WI   \n",
       "Wyoming                      0.281701         0.683197  Trump         WY   \n",
       "\n",
       "                      Difference        Status  \n",
       "state                                           \n",
       "Alabama               -23.208349    Safe Trump  \n",
       "Arizona                 1.756159       Toss-Up  \n",
       "Arkansas              -26.618656    Safe Trump  \n",
       "California             29.562945    Safe Biden  \n",
       "Colorado               12.274914    Safe Biden  \n",
       "Connecticut            19.164869    Safe Biden  \n",
       "Delaware               16.719299    Safe Biden  \n",
       "District of Columbia   82.397847    Safe Biden  \n",
       "Florida                -1.996468       Toss-Up  \n",
       "Georgia                 0.033375       Toss-Up  \n",
       "Hawaii                 29.523187    Safe Biden  \n",
       "Idaho                 -30.277592    Safe Trump  \n",
       "Illinois               15.734859    Safe Biden  \n",
       "Indiana               -16.680694    Safe Trump  \n",
       "Iowa                  -10.578629    Safe Trump  \n",
       "Kansas                -14.892160    Safe Trump  \n",
       "Kentucky              -25.574213    Safe Trump  \n",
       "Louisiana             -16.748498    Safe Trump  \n",
       "Maine                   4.295254  Likely Biden  \n",
       "Maryland               30.886384    Safe Biden  \n",
       "Massachusetts          31.698399    Safe Biden  \n",
       "Michigan                1.808328       Toss-Up  \n",
       "Minnesota               5.012207  Likely Biden  \n",
       "Mississippi           -16.447882    Safe Trump  \n",
       "Missouri              -16.032816    Safe Trump  \n",
       "Montana               -17.609408    Safe Trump  \n",
       "Nebraska              -18.858533    Safe Trump  \n",
       "Nevada                  3.424098  Likely Biden  \n",
       "New Hampshire           5.389489  Likely Biden  \n",
       "New Jersey             16.466579    Safe Biden  \n",
       "New Mexico              8.486095  Likely Biden  \n",
       "New York               22.334641    Safe Biden  \n",
       "North Carolina         -2.062427       Toss-Up  \n",
       "North Dakota          -31.047156    Safe Trump  \n",
       "Ohio                   -8.448218  Likely Trump  \n",
       "Oklahoma              -30.060368    Safe Trump  \n",
       "Oregon                 12.288474    Safe Biden  \n",
       "Pennsylvania            0.559948       Toss-Up  \n",
       "Rhode Island           18.217851    Safe Biden  \n",
       "South Carolina        -11.304787    Safe Trump  \n",
       "South Dakota          -26.313792    Safe Trump  \n",
       "Tennessee             -21.747792    Safe Trump  \n",
       "Texas                  -4.173049  Likely Trump  \n",
       "Utah                  -18.583548    Safe Trump  \n",
       "Vermont                26.992443    Safe Biden  \n",
       "Virginia                8.694782  Likely Biden  \n",
       "Washington             17.471871    Safe Biden  \n",
       "West Virginia         -38.312508    Safe Trump  \n",
       "Wisconsin              -2.041527       Toss-Up  \n",
       "Wyoming               -40.149651    Safe Trump  "
      ]
     },
     "execution_count": 139,
     "metadata": {},
     "output_type": "execute_result"
    }
   ],
   "source": [
    "# Añadir la columna \"Winner\" basado en los porcentajes predichos de Biden y Trump\n",
    "accumulated_pred_state['Winner'] = np.where(\n",
    "    accumulated_pred_state['Perc_Biden_2020'] >= accumulated_pred_state['Perc_Trump_2020'], 'Biden', 'Trump'\n",
    ")\n",
    "\n",
    "# Añadir los códigos de los estados usando el diccionario state_to_code\n",
    "accumulated_pred_state['state_code'] = accumulated_pred_state.index.map(state_to_code)\n",
    "\n",
    "# Añadir diferencia entre Biden y Trump\n",
    "accumulated_pred_state['Difference'] = (accumulated_pred_state['Perc_Biden_2020'] - accumulated_pred_state['Perc_Trump_2020']) * 100\n",
    "\n",
    "\n",
    "# Definir las condiciones y los valores a asignar\n",
    "conditions = [\n",
    "    accumulated_pred_state[\"Difference\"] > 10,\n",
    "    accumulated_pred_state[\"Difference\"].between(3, 10),\n",
    "    accumulated_pred_state[\"Difference\"].between(-3, 3),\n",
    "    accumulated_pred_state[\"Difference\"].between(-10, -3),\n",
    "    accumulated_pred_state[\"Difference\"] < -10\n",
    "]\n",
    "\n",
    "choices = [\n",
    "    \"Safe Biden\",\n",
    "    \"Likely Biden\",\n",
    "    \"Toss-Up\",\n",
    "    \"Likely Trump\",\n",
    "    \"Safe Trump\"\n",
    "]\n",
    "\n",
    "# Usar np.select para asignar el \"Status\" basado en las condiciones, con un valor por defecto \"Unknown\"\n",
    "accumulated_pred_state[\"Status\"] = np.select(conditions, choices, default=\"Unknown\")\n",
    "\n",
    "\n",
    "# Mostrar el DataFrame\n",
    "accumulated_pred_state\n"
   ]
  },
  {
   "cell_type": "markdown",
   "metadata": {},
   "source": [
    "## Gráficos"
   ]
  },
  {
   "cell_type": "code",
   "execution_count": 140,
   "metadata": {},
   "outputs": [
    {
     "data": {
      "image/png": "[encoded data removed]",
      "text/plain": [
       "<Figure size 1200x800 with 1 Axes>"
      ]
     },
     "metadata": {},
     "output_type": "display_data"
    }
   ],
   "source": [
    "# Asegurarse de que los valores de Trump_Pred y Biden_Pred sean numéricos\n",
    "simulation_results['Trump_Pred'] = pd.to_numeric(simulation_results['Trump_Pred'], errors='coerce')\n",
    "simulation_results['Biden_Pred'] = pd.to_numeric(simulation_results['Biden_Pred'], errors='coerce')\n",
    "\n",
    "# Eliminar cualquier fila con valores NaN (si es necesario)\n",
    "simulation_results = simulation_results.dropna(subset=['Trump_Pred', 'Biden_Pred'])\n",
    "\n",
    "# Crear un gráfico de densidad para las predicciones de Biden y Trump\n",
    "plt.figure(figsize=(12, 8))\n",
    "\n",
    "# Gráfico de densidad para Biden (positivo)\n",
    "sns.kdeplot(simulation_results['Biden_Pred'], color=\"#377eb8\", fill=True, alpha=0.8, label=\"Biden Pred\")\n",
    "\n",
    "# Crear la densidad para Trump usando gaussian_kde\n",
    "density_trump = gaussian_kde(simulation_results['Trump_Pred'])\n",
    "x_vals = np.linspace(min(simulation_results['Trump_Pred']), max(simulation_results['Biden_Pred']), 1000)\n",
    "y_vals = density_trump(x_vals)\n",
    "\n",
    "# Graficar la densidad de Trump invertida\n",
    "plt.fill_between(x_vals, -y_vals, color=\"#e41a1c\", alpha=0.8, label=\"Trump Pred\")\n",
    "\n",
    "# Línea vertical en 270 votos\n",
    "plt.axvline(x=270, color=\"black\", linestyle=\"--\", linewidth=1, label=\"Límite para ganar (270)\")\n",
    "plt.text(270-4, 0.02, '270', color=\"black\", verticalalignment='bottom', fontsize=12)  # Añadir el valor '270' dentro del gráfico\n",
    "\n",
    "# Línea vertical para la media de las predicciones de Biden\n",
    "plt.axvline(x=np.mean(simulation_results['Biden_Pred']), color=\"white\", linestyle=\"--\", linewidth=1, label=\"Media Biden Pred\")\n",
    "mean_biden = np.mean(simulation_results['Biden_Pred'])\n",
    "plt.text(mean_biden + 1, 0.01, f'{mean_biden:.0f}', color=\"white\", verticalalignment='bottom', fontsize=12)  # Añadir el valor de la media de Biden\n",
    "\n",
    "# Línea vertical para la media de las predicciones de Trump\n",
    "plt.axvline(x=np.mean(simulation_results['Trump_Pred']), color=\"white\", linestyle=\"--\", linewidth=1, label=\"Media Trump Pred\")\n",
    "mean_trump = np.mean(simulation_results['Trump_Pred'])\n",
    "plt.text(mean_trump + 1, -0.01, f'{mean_trump:.0f}', color=\"white\", verticalalignment='top', fontsize=12)  # Añadir el valor de la media de Trump\n",
    "\n",
    "\n",
    "\n",
    "# Ajustar el eje Y para que sea simétrico\n",
    "plt.ylim(-1.1 * max(y_vals), 1.1 * max(y_vals))\n",
    "\n",
    "# Ajustar el eje X para ver más a la izquierda\n",
    "plt.xlim(min(simulation_results['Trump_Pred']), max(simulation_results['Biden_Pred']))\n",
    "\n",
    "# Añadir título\n",
    "plt.title(\"Distribución Biden Pred. vs Trump Pred.\", fontsize=16)\n",
    "\n",
    "# Añadir leyenda\n",
    "plt.legend()\n",
    "\n",
    "# Mostrar el gráfico\n",
    "plt.show()\n"
   ]
  },
  {
   "cell_type": "code",
   "execution_count": 141,
   "metadata": {},
   "outputs": [
    {
     "data": {
      "image/png": "[encoded data removed]",
      "text/plain": [
       "<Figure size 1000x1200 with 1 Axes>"
      ]
     },
     "metadata": {},
     "output_type": "display_data"
    }
   ],
   "source": [
    "# Ordenar los estados por orden alfabético\n",
    "accumulated_pred_state_sorted = accumulated_pred_state.sort_values('state', ascending=False)\n",
    "\n",
    "# Crear el gráfico de barras apiladas\n",
    "plt.figure(figsize=(10, 12))\n",
    "\n",
    "# Primero, graficar la barra de Trump\n",
    "sns.barplot(x=accumulated_pred_state_sorted['Perc_Biden_2020'] + accumulated_pred_state_sorted['Perc_Trump_2020'], \n",
    "            y='state', data=accumulated_pred_state_sorted, color=\"#e41a1c\", label=\"Trump\")\n",
    "\n",
    "# Luego, graficar la barra de Biden encima de Trump\n",
    "sns.barplot(x='Perc_Biden_2020', y='state', data=accumulated_pred_state_sorted, color=\"#377eb8\", label=\"Biden\")\n",
    "\n",
    "# Añadir una línea vertical en el 50%\n",
    "plt.axvline(x=0.50, color=\"white\", linestyle=\"--\", linewidth=1)\n",
    "\n",
    "# Añadir leyenda\n",
    "plt.legend(loc='best')\n",
    "\n",
    "# Invertir el eje Y para que los estados se vean de arriba hacia abajo\n",
    "plt.gca().invert_yaxis()\n",
    "\n",
    "# Añadir etiquetas y título\n",
    "plt.title('Resultados por Estado - Simulaciones de Trump vs Biden', fontsize=16)\n",
    "plt.xlabel('Proporción de Votos Simulados')\n",
    "plt.ylabel('Estado')\n",
    "\n",
    "# Ajustar el eje X para que las barras lleguen al 100%\n",
    "plt.xlim(0, 1)\n",
    "\n",
    "# Mostrar el gráfico\n",
    "plt.show()"
   ]
  },
  {
   "cell_type": "code",
   "execution_count": 142,
   "metadata": {},
   "outputs": [
    {
     "data": {
      "application/vnd.plotly.v1+json": {
       "config": {
        "plotlyServerURL": "https://plot.ly"
       },
       "data": [
        {
         "colorscale": [
          [
           0,
           "#e41a1c"
          ],
          [
           1,
           "#e41a1c"
          ]
         ],
         "customdata": [
          [
           "AL",
           0.37696648855926396,
           0.6090499776457612
          ],
          [
           "AR",
           0.3527606793176376,
           0.6189472387739553
          ],
          [
           "FL",
           0.4854240135284932,
           0.5053886899509694
          ],
          [
           "ID",
           0.3330805071974757,
           0.6358564301545726
          ],
          [
           "IN",
           0.4065656980192998,
           0.5733726376910628
          ],
          [
           "IA",
           0.43701205820682626,
           0.5427983471996182
          ],
          [
           "KS",
           0.41338789496224804,
           0.5623094953859153
          ],
          [
           "KY",
           0.3633193670598597,
           0.619061499744585
          ],
          [
           "LA",
           0.40781920789485054,
           0.5753041842604968
          ],
          [
           "MS",
           0.41053114936778895,
           0.5750099713018088
          ],
          [
           "MO",
           0.410878105208415,
           0.5712062699423636
          ],
          [
           "MT",
           0.397621966362584,
           0.5737160443679153
          ],
          [
           "NE",
           0.3926633406805393,
           0.5812486753716744
          ],
          [
           "NC",
           0.48229067467826686,
           0.5029149463024706
          ],
          [
           "ND",
           0.32911827458273146,
           0.6395898363788272
          ],
          [
           "OH",
           0.4503121042273335,
           0.5347942801884633
          ],
          [
           "OK",
           0.33799539049514765,
           0.6385990713453482
          ],
          [
           "SC",
           0.4361779743896361,
           0.5492258465983838
          ],
          [
           "SD",
           0.3553042487929207,
           0.6184421692909345
          ],
          [
           "TN",
           0.3818196825025592,
           0.5992976018705157
          ],
          [
           "TX",
           0.47169354076052494,
           0.5134240308478754
          ],
          [
           "UT",
           0.3859616961088346,
           0.5717971800234222
          ],
          [
           "WV",
           0.3000778261186132,
           0.6832029055727433
          ],
          [
           "WI",
           0.48120759754097875,
           0.5016228676322876
          ],
          [
           "WY",
           0.2817007552263433,
           0.6831972629479202
          ]
         ],
         "geo": "geo",
         "hovertemplate": "<b>%{hovertext}</b><br><br>Ganador 2020=Trump<br>state_code=%{customdata[0]}<br>Perc_Biden_2020=%{customdata[1]:.2%}<br>Perc_Trump_2020=%{customdata[2]:.2%}<extra></extra>",
         "hovertext": [
          "AL",
          "AR",
          "FL",
          "ID",
          "IN",
          "IA",
          "KS",
          "KY",
          "LA",
          "MS",
          "MO",
          "MT",
          "NE",
          "NC",
          "ND",
          "OH",
          "OK",
          "SC",
          "SD",
          "TN",
          "TX",
          "UT",
          "WV",
          "WI",
          "WY"
         ],
         "locationmode": "USA-states",
         "locations": [
          "AL",
          "AR",
          "FL",
          "ID",
          "IN",
          "IA",
          "KS",
          "KY",
          "LA",
          "MS",
          "MO",
          "MT",
          "NE",
          "NC",
          "ND",
          "OH",
          "OK",
          "SC",
          "SD",
          "TN",
          "TX",
          "UT",
          "WV",
          "WI",
          "WY"
         ],
         "name": "Trump",
         "showlegend": true,
         "showscale": false,
         "type": "choropleth",
         "z": [
          1,
          1,
          1,
          1,
          1,
          1,
          1,
          1,
          1,
          1,
          1,
          1,
          1,
          1,
          1,
          1,
          1,
          1,
          1,
          1,
          1,
          1,
          1,
          1,
          1
         ]
        },
        {
         "colorscale": [
          [
           0,
           "#377eb8"
          ],
          [
           1,
           "#377eb8"
          ]
         ],
         "customdata": [
          [
           "AZ",
           0.5008841509697995,
           0.4833225654785138
          ],
          [
           "CA",
           0.6369498707391632,
           0.34132041717847905
          ],
          [
           "CO",
           0.5478659342101286,
           0.42511678921265356
          ],
          [
           "CT",
           0.5880653922814821,
           0.3964167047650237
          ],
          [
           "DE",
           0.5765142928642788,
           0.4093213056357504
          ],
          [
           "DC",
           0.8997243096715947,
           0.07574584330962074
          ],
          [
           "GA",
           0.4939411334511225,
           0.49360737870923205
          ],
          [
           "HI",
           0.6376284513304684,
           0.34239658048151794
          ],
          [
           "IL",
           0.5687349830323657,
           0.4113863976940971
          ],
          [
           "ME",
           0.5071178740407088,
           0.46416533681288064
          ],
          [
           "MD",
           0.6419867002903444,
           0.33312286398791413
          ],
          [
           "MA",
           0.6472018671242009,
           0.33021787324054
          ],
          [
           "MI",
           0.5013321850266447,
           0.4832489047929755
          ],
          [
           "MN",
           0.5134612439955889,
           0.4633391731935051
          ],
          [
           "NV",
           0.5057356375937541,
           0.4714946552246805
          ],
          [
           "NH",
           0.5183357574026308,
           0.4644408670395206
          ],
          [
           "NJ",
           0.5743770169922922,
           0.4097112221295407
          ],
          [
           "NM",
           0.5313913290310827,
           0.44653037533013856
          ],
          [
           "NY",
           0.6045953194336097,
           0.3812489124527025
          ],
          [
           "OR",
           0.5455451949523499,
           0.4226604520515728
          ],
          [
           "PA",
           0.49651340201357796,
           0.4909139201572303
          ],
          [
           "RI",
           0.5810811781373196,
           0.3989026710598848
          ],
          [
           "VT",
           0.6187631232155713,
           0.3488386926503949
          ],
          [
           "VA",
           0.5339990164211992,
           0.4470511920296468
          ],
          [
           "WA",
           0.5710457483670399,
           0.3963270404194235
          ]
         ],
         "geo": "geo",
         "hovertemplate": "<b>%{hovertext}</b><br><br>Ganador 2020=Biden<br>state_code=%{customdata[0]}<br>Perc_Biden_2020=%{customdata[1]:.2%}<br>Perc_Trump_2020=%{customdata[2]:.2%}<extra></extra>",
         "hovertext": [
          "AZ",
          "CA",
          "CO",
          "CT",
          "DE",
          "DC",
          "GA",
          "HI",
          "IL",
          "ME",
          "MD",
          "MA",
          "MI",
          "MN",
          "NV",
          "NH",
          "NJ",
          "NM",
          "NY",
          "OR",
          "PA",
          "RI",
          "VT",
          "VA",
          "WA"
         ],
         "locationmode": "USA-states",
         "locations": [
          "AZ",
          "CA",
          "CO",
          "CT",
          "DE",
          "DC",
          "GA",
          "HI",
          "IL",
          "ME",
          "MD",
          "MA",
          "MI",
          "MN",
          "NV",
          "NH",
          "NJ",
          "NM",
          "NY",
          "OR",
          "PA",
          "RI",
          "VT",
          "VA",
          "WA"
         ],
         "name": "Biden",
         "showlegend": true,
         "showscale": false,
         "type": "choropleth",
         "z": [
          1,
          1,
          1,
          1,
          1,
          1,
          1,
          1,
          1,
          1,
          1,
          1,
          1,
          1,
          1,
          1,
          1,
          1,
          1,
          1,
          1,
          1,
          1,
          1,
          1
         ]
        }
       ],
       "layout": {
        "geo": {
         "center": {},
         "domain": {
          "x": [
           0,
           1
          ],
          "y": [
           0,
           1
          ]
         },
         "fitbounds": "locations",
         "scope": "usa",
         "visible": false
        },
        "legend": {
         "title": {
          "text": "Ganador 2020"
         },
         "tracegroupgap": 0
        },
        "template": {
         "data": {
          "bar": [
           {
            "error_x": {
             "color": "#2a3f5f"
            },
            "error_y": {
             "color": "#2a3f5f"
            },
            "marker": {
             "line": {
              "color": "#E5ECF6",
              "width": 0.5
             },
             "pattern": {
              "fillmode": "overlay",
              "size": 10,
              "solidity": 0.2
             }
            },
            "type": "bar"
           }
          ],
          "barpolar": [
           {
            "marker": {
             "line": {
              "color": "#E5ECF6",
              "width": 0.5
             },
             "pattern": {
              "fillmode": "overlay",
              "size": 10,
              "solidity": 0.2
             }
            },
            "type": "barpolar"
           }
          ],
          "carpet": [
           {
            "aaxis": {
             "endlinecolor": "#2a3f5f",
             "gridcolor": "white",
             "linecolor": "white",
             "minorgridcolor": "white",
             "startlinecolor": "#2a3f5f"
            },
            "baxis": {
             "endlinecolor": "#2a3f5f",
             "gridcolor": "white",
             "linecolor": "white",
             "minorgridcolor": "white",
             "startlinecolor": "#2a3f5f"
            },
            "type": "carpet"
           }
          ],
          "choropleth": [
           {
            "colorbar": {
             "outlinewidth": 0,
             "ticks": ""
            },
            "type": "choropleth"
           }
          ],
          "contour": [
           {
            "colorbar": {
             "outlinewidth": 0,
             "ticks": ""
            },
            "colorscale": [
             [
              0,
              "#0d0887"
             ],
             [
              0.1111111111111111,
              "#46039f"
             ],
             [
              0.2222222222222222,
              "#7201a8"
             ],
             [
              0.3333333333333333,
              "#9c179e"
             ],
             [
              0.4444444444444444,
              "#bd3786"
             ],
             [
              0.5555555555555556,
              "#d8576b"
             ],
             [
              0.6666666666666666,
              "#ed7953"
             ],
             [
              0.7777777777777778,
              "#fb9f3a"
             ],
             [
              0.8888888888888888,
              "#fdca26"
             ],
             [
              1,
              "#f0f921"
             ]
            ],
            "type": "contour"
           }
          ],
          "contourcarpet": [
           {
            "colorbar": {
             "outlinewidth": 0,
             "ticks": ""
            },
            "type": "contourcarpet"
           }
          ],
          "heatmap": [
           {
            "colorbar": {
             "outlinewidth": 0,
             "ticks": ""
            },
            "colorscale": [
             [
              0,
              "#0d0887"
             ],
             [
              0.1111111111111111,
              "#46039f"
             ],
             [
              0.2222222222222222,
              "#7201a8"
             ],
             [
              0.3333333333333333,
              "#9c179e"
             ],
             [
              0.4444444444444444,
              "#bd3786"
             ],
             [
              0.5555555555555556,
              "#d8576b"
             ],
             [
              0.6666666666666666,
              "#ed7953"
             ],
             [
              0.7777777777777778,
              "#fb9f3a"
             ],
             [
              0.8888888888888888,
              "#fdca26"
             ],
             [
              1,
              "#f0f921"
             ]
            ],
            "type": "heatmap"
           }
          ],
          "heatmapgl": [
           {
            "colorbar": {
             "outlinewidth": 0,
             "ticks": ""
            },
            "colorscale": [
             [
              0,
              "#0d0887"
             ],
             [
              0.1111111111111111,
              "#46039f"
             ],
             [
              0.2222222222222222,
              "#7201a8"
             ],
             [
              0.3333333333333333,
              "#9c179e"
             ],
             [
              0.4444444444444444,
              "#bd3786"
             ],
             [
              0.5555555555555556,
              "#d8576b"
             ],
             [
              0.6666666666666666,
              "#ed7953"
             ],
             [
              0.7777777777777778,
              "#fb9f3a"
             ],
             [
              0.8888888888888888,
              "#fdca26"
             ],
             [
              1,
              "#f0f921"
             ]
            ],
            "type": "heatmapgl"
           }
          ],
          "histogram": [
           {
            "marker": {
             "pattern": {
              "fillmode": "overlay",
              "size": 10,
              "solidity": 0.2
             }
            },
            "type": "histogram"
           }
          ],
          "histogram2d": [
           {
            "colorbar": {
             "outlinewidth": 0,
             "ticks": ""
            },
            "colorscale": [
             [
              0,
              "#0d0887"
             ],
             [
              0.1111111111111111,
              "#46039f"
             ],
             [
              0.2222222222222222,
              "#7201a8"
             ],
             [
              0.3333333333333333,
              "#9c179e"
             ],
             [
              0.4444444444444444,
              "#bd3786"
             ],
             [
              0.5555555555555556,
              "#d8576b"
             ],
             [
              0.6666666666666666,
              "#ed7953"
             ],
             [
              0.7777777777777778,
              "#fb9f3a"
             ],
             [
              0.8888888888888888,
              "#fdca26"
             ],
             [
              1,
              "#f0f921"
             ]
            ],
            "type": "histogram2d"
           }
          ],
          "histogram2dcontour": [
           {
            "colorbar": {
             "outlinewidth": 0,
             "ticks": ""
            },
            "colorscale": [
             [
              0,
              "#0d0887"
             ],
             [
              0.1111111111111111,
              "#46039f"
             ],
             [
              0.2222222222222222,
              "#7201a8"
             ],
             [
              0.3333333333333333,
              "#9c179e"
             ],
             [
              0.4444444444444444,
              "#bd3786"
             ],
             [
              0.5555555555555556,
              "#d8576b"
             ],
             [
              0.6666666666666666,
              "#ed7953"
             ],
             [
              0.7777777777777778,
              "#fb9f3a"
             ],
             [
              0.8888888888888888,
              "#fdca26"
             ],
             [
              1,
              "#f0f921"
             ]
            ],
            "type": "histogram2dcontour"
           }
          ],
          "mesh3d": [
           {
            "colorbar": {
             "outlinewidth": 0,
             "ticks": ""
            },
            "type": "mesh3d"
           }
          ],
          "parcoords": [
           {
            "line": {
             "colorbar": {
              "outlinewidth": 0,
              "ticks": ""
             }
            },
            "type": "parcoords"
           }
          ],
          "pie": [
           {
            "automargin": true,
            "type": "pie"
           }
          ],
          "scatter": [
           {
            "fillpattern": {
             "fillmode": "overlay",
             "size": 10,
             "solidity": 0.2
            },
            "type": "scatter"
           }
          ],
          "scatter3d": [
           {
            "line": {
             "colorbar": {
              "outlinewidth": 0,
              "ticks": ""
             }
            },
            "marker": {
             "colorbar": {
              "outlinewidth": 0,
              "ticks": ""
             }
            },
            "type": "scatter3d"
           }
          ],
          "scattercarpet": [
           {
            "marker": {
             "colorbar": {
              "outlinewidth": 0,
              "ticks": ""
             }
            },
            "type": "scattercarpet"
           }
          ],
          "scattergeo": [
           {
            "marker": {
             "colorbar": {
              "outlinewidth": 0,
              "ticks": ""
             }
            },
            "type": "scattergeo"
           }
          ],
          "scattergl": [
           {
            "marker": {
             "colorbar": {
              "outlinewidth": 0,
              "ticks": ""
             }
            },
            "type": "scattergl"
           }
          ],
          "scattermapbox": [
           {
            "marker": {
             "colorbar": {
              "outlinewidth": 0,
              "ticks": ""
             }
            },
            "type": "scattermapbox"
           }
          ],
          "scatterpolar": [
           {
            "marker": {
             "colorbar": {
              "outlinewidth": 0,
              "ticks": ""
             }
            },
            "type": "scatterpolar"
           }
          ],
          "scatterpolargl": [
           {
            "marker": {
             "colorbar": {
              "outlinewidth": 0,
              "ticks": ""
             }
            },
            "type": "scatterpolargl"
           }
          ],
          "scatterternary": [
           {
            "marker": {
             "colorbar": {
              "outlinewidth": 0,
              "ticks": ""
             }
            },
            "type": "scatterternary"
           }
          ],
          "surface": [
           {
            "colorbar": {
             "outlinewidth": 0,
             "ticks": ""
            },
            "colorscale": [
             [
              0,
              "#0d0887"
             ],
             [
              0.1111111111111111,
              "#46039f"
             ],
             [
              0.2222222222222222,
              "#7201a8"
             ],
             [
              0.3333333333333333,
              "#9c179e"
             ],
             [
              0.4444444444444444,
              "#bd3786"
             ],
             [
              0.5555555555555556,
              "#d8576b"
             ],
             [
              0.6666666666666666,
              "#ed7953"
             ],
             [
              0.7777777777777778,
              "#fb9f3a"
             ],
             [
              0.8888888888888888,
              "#fdca26"
             ],
             [
              1,
              "#f0f921"
             ]
            ],
            "type": "surface"
           }
          ],
          "table": [
           {
            "cells": {
             "fill": {
              "color": "#EBF0F8"
             },
             "line": {
              "color": "white"
             }
            },
            "header": {
             "fill": {
              "color": "#C8D4E3"
             },
             "line": {
              "color": "white"
             }
            },
            "type": "table"
           }
          ]
         },
         "layout": {
          "annotationdefaults": {
           "arrowcolor": "#2a3f5f",
           "arrowhead": 0,
           "arrowwidth": 1
          },
          "autotypenumbers": "strict",
          "coloraxis": {
           "colorbar": {
            "outlinewidth": 0,
            "ticks": ""
           }
          },
          "colorscale": {
           "diverging": [
            [
             0,
             "#8e0152"
            ],
            [
             0.1,
             "#c51b7d"
            ],
            [
             0.2,
             "#de77ae"
            ],
            [
             0.3,
             "#f1b6da"
            ],
            [
             0.4,
             "#fde0ef"
            ],
            [
             0.5,
             "#f7f7f7"
            ],
            [
             0.6,
             "#e6f5d0"
            ],
            [
             0.7,
             "#b8e186"
            ],
            [
             0.8,
             "#7fbc41"
            ],
            [
             0.9,
             "#4d9221"
            ],
            [
             1,
             "#276419"
            ]
           ],
           "sequential": [
            [
             0,
             "#0d0887"
            ],
            [
             0.1111111111111111,
             "#46039f"
            ],
            [
             0.2222222222222222,
             "#7201a8"
            ],
            [
             0.3333333333333333,
             "#9c179e"
            ],
            [
             0.4444444444444444,
             "#bd3786"
            ],
            [
             0.5555555555555556,
             "#d8576b"
            ],
            [
             0.6666666666666666,
             "#ed7953"
            ],
            [
             0.7777777777777778,
             "#fb9f3a"
            ],
            [
             0.8888888888888888,
             "#fdca26"
            ],
            [
             1,
             "#f0f921"
            ]
           ],
           "sequentialminus": [
            [
             0,
             "#0d0887"
            ],
            [
             0.1111111111111111,
             "#46039f"
            ],
            [
             0.2222222222222222,
             "#7201a8"
            ],
            [
             0.3333333333333333,
             "#9c179e"
            ],
            [
             0.4444444444444444,
             "#bd3786"
            ],
            [
             0.5555555555555556,
             "#d8576b"
            ],
            [
             0.6666666666666666,
             "#ed7953"
            ],
            [
             0.7777777777777778,
             "#fb9f3a"
            ],
            [
             0.8888888888888888,
             "#fdca26"
            ],
            [
             1,
             "#f0f921"
            ]
           ]
          },
          "colorway": [
           "#636efa",
           "#EF553B",
           "#00cc96",
           "#ab63fa",
           "#FFA15A",
           "#19d3f3",
           "#FF6692",
           "#B6E880",
           "#FF97FF",
           "#FECB52"
          ],
          "font": {
           "color": "#2a3f5f"
          },
          "geo": {
           "bgcolor": "white",
           "lakecolor": "white",
           "landcolor": "#E5ECF6",
           "showlakes": true,
           "showland": true,
           "subunitcolor": "white"
          },
          "hoverlabel": {
           "align": "left"
          },
          "hovermode": "closest",
          "mapbox": {
           "style": "light"
          },
          "paper_bgcolor": "white",
          "plot_bgcolor": "#E5ECF6",
          "polar": {
           "angularaxis": {
            "gridcolor": "white",
            "linecolor": "white",
            "ticks": ""
           },
           "bgcolor": "#E5ECF6",
           "radialaxis": {
            "gridcolor": "white",
            "linecolor": "white",
            "ticks": ""
           }
          },
          "scene": {
           "xaxis": {
            "backgroundcolor": "#E5ECF6",
            "gridcolor": "white",
            "gridwidth": 2,
            "linecolor": "white",
            "showbackground": true,
            "ticks": "",
            "zerolinecolor": "white"
           },
           "yaxis": {
            "backgroundcolor": "#E5ECF6",
            "gridcolor": "white",
            "gridwidth": 2,
            "linecolor": "white",
            "showbackground": true,
            "ticks": "",
            "zerolinecolor": "white"
           },
           "zaxis": {
            "backgroundcolor": "#E5ECF6",
            "gridcolor": "white",
            "gridwidth": 2,
            "linecolor": "white",
            "showbackground": true,
            "ticks": "",
            "zerolinecolor": "white"
           }
          },
          "shapedefaults": {
           "line": {
            "color": "#2a3f5f"
           }
          },
          "ternary": {
           "aaxis": {
            "gridcolor": "white",
            "linecolor": "white",
            "ticks": ""
           },
           "baxis": {
            "gridcolor": "white",
            "linecolor": "white",
            "ticks": ""
           },
           "bgcolor": "#E5ECF6",
           "caxis": {
            "gridcolor": "white",
            "linecolor": "white",
            "ticks": ""
           }
          },
          "title": {
           "x": 0.05
          },
          "xaxis": {
           "automargin": true,
           "gridcolor": "white",
           "linecolor": "white",
           "ticks": "",
           "title": {
            "standoff": 15
           },
           "zerolinecolor": "white",
           "zerolinewidth": 2
          },
          "yaxis": {
           "automargin": true,
           "gridcolor": "white",
           "linecolor": "white",
           "ticks": "",
           "title": {
            "standoff": 15
           },
           "zerolinecolor": "white",
           "zerolinewidth": 2
          }
         }
        },
        "title": {
         "text": "Resultado Medio de las Simulaciones - Elecciones Presidenciales 2020"
        }
       }
      }
     },
     "metadata": {},
     "output_type": "display_data"
    }
   ],
   "source": [
    "# Crear el mapa coroplético usando Plotly Express con códigos de estado\n",
    "fig = px.choropleth(accumulated_pred_state,\n",
    "                    locations='state_code',  # Usar la nueva columna con códigos de estado\n",
    "                    locationmode=\"USA-states\",  # Modo de localización para los códigos de estado\n",
    "                    color='Winner',  # Métrica que deseas visualizar\n",
    "                    hover_name='state_code',  # Mostrar el código del estado en hover\n",
    "                    hover_data={\n",
    "                        'state_code': True,  # Mostrar el código del estado\n",
    "                        'Perc_Biden_2020': ':.2%',  # Mostrar el porcentaje de Biden en formato de porcentaje\n",
    "                        'Perc_Trump_2020': ':.2%'  # Mostrar el porcentaje de Trump en formato de porcentaje\n",
    "                    },\n",
    "                    scope='usa',  # Limitar el mapa a EE.UU.\n",
    "                    color_discrete_map={'Biden': '#377eb8', 'Trump': '#e41a1c'},  # Colores asignados\n",
    "                    labels={'Winner': 'Ganador 2020'},  # Etiqueta para la barra de color\n",
    "                    title=\"Resultado Medio de las Simulaciones - Elecciones Presidenciales 2020\"\n",
    "                   )\n",
    "\n",
    "# # Crear un nuevo rastro para añadir los códigos de los estados en el mapa\n",
    "# fig.add_trace(go.Scattergeo(\n",
    "#     locationmode='USA-states',\n",
    "#     locations=accumulated_pred_state['state_code'],  # Usar los códigos de los estados\n",
    "#     text=accumulated_pred_state['state_code'],  # Mostrar los códigos dentro del mapa\n",
    "#     mode='text',  # Solo texto\n",
    "#     textfont=dict(size=12, color=\"black\"),  # Tamaño y color de la fuente\n",
    "# ))\n",
    "\n",
    "# Ajustar visualización y mostrar el gráfico\n",
    "fig.update_geos(fitbounds=\"locations\", visible=False)  # Ajustar el mapa a las ubicaciones\n",
    "fig.show()\n"
   ]
  },
  {
   "cell_type": "code",
   "execution_count": 143,
   "metadata": {},
   "outputs": [
    {
     "data": {
      "application/vnd.plotly.v1+json": {
       "config": {
        "plotlyServerURL": "https://plot.ly"
       },
       "data": [
        {
         "colorscale": [
          [
           0,
           "#e41a1c"
          ],
          [
           1,
           "#e41a1c"
          ]
         ],
         "customdata": [
          [
           "AL",
           0.37696648855926396,
           0.6090499776457612
          ],
          [
           "AR",
           0.3527606793176376,
           0.6189472387739553
          ],
          [
           "ID",
           0.3330805071974757,
           0.6358564301545726
          ],
          [
           "IN",
           0.4065656980192998,
           0.5733726376910628
          ],
          [
           "IA",
           0.43701205820682626,
           0.5427983471996182
          ],
          [
           "KS",
           0.41338789496224804,
           0.5623094953859153
          ],
          [
           "KY",
           0.3633193670598597,
           0.619061499744585
          ],
          [
           "LA",
           0.40781920789485054,
           0.5753041842604968
          ],
          [
           "MS",
           0.41053114936778895,
           0.5750099713018088
          ],
          [
           "MO",
           0.410878105208415,
           0.5712062699423636
          ],
          [
           "MT",
           0.397621966362584,
           0.5737160443679153
          ],
          [
           "NE",
           0.3926633406805393,
           0.5812486753716744
          ],
          [
           "ND",
           0.32911827458273146,
           0.6395898363788272
          ],
          [
           "OK",
           0.33799539049514765,
           0.6385990713453482
          ],
          [
           "SC",
           0.4361779743896361,
           0.5492258465983838
          ],
          [
           "SD",
           0.3553042487929207,
           0.6184421692909345
          ],
          [
           "TN",
           0.3818196825025592,
           0.5992976018705157
          ],
          [
           "UT",
           0.3859616961088346,
           0.5717971800234222
          ],
          [
           "WV",
           0.3000778261186132,
           0.6832029055727433
          ],
          [
           "WY",
           0.2817007552263433,
           0.6831972629479202
          ]
         ],
         "geo": "geo",
         "hovertemplate": "<b>%{hovertext}</b><br><br>Status=Safe Trump<br>state_code=%{customdata[0]}<br>Perc_Biden_2020=%{customdata[1]:.2%}<br>Perc_Trump_2020=%{customdata[2]:.2%}<extra></extra>",
         "hovertext": [
          "AL",
          "AR",
          "ID",
          "IN",
          "IA",
          "KS",
          "KY",
          "LA",
          "MS",
          "MO",
          "MT",
          "NE",
          "ND",
          "OK",
          "SC",
          "SD",
          "TN",
          "UT",
          "WV",
          "WY"
         ],
         "locationmode": "USA-states",
         "locations": [
          "AL",
          "AR",
          "ID",
          "IN",
          "IA",
          "KS",
          "KY",
          "LA",
          "MS",
          "MO",
          "MT",
          "NE",
          "ND",
          "OK",
          "SC",
          "SD",
          "TN",
          "UT",
          "WV",
          "WY"
         ],
         "name": "Safe Trump",
         "showlegend": true,
         "showscale": false,
         "type": "choropleth",
         "z": [
          1,
          1,
          1,
          1,
          1,
          1,
          1,
          1,
          1,
          1,
          1,
          1,
          1,
          1,
          1,
          1,
          1,
          1,
          1,
          1
         ]
        },
        {
         "colorscale": [
          [
           0,
           "#b6b164"
          ],
          [
           1,
           "#b6b164"
          ]
         ],
         "customdata": [
          [
           "AZ",
           0.5008841509697995,
           0.4833225654785138
          ],
          [
           "FL",
           0.4854240135284932,
           0.5053886899509694
          ],
          [
           "GA",
           0.4939411334511225,
           0.49360737870923205
          ],
          [
           "MI",
           0.5013321850266447,
           0.4832489047929755
          ],
          [
           "NC",
           0.48229067467826686,
           0.5029149463024706
          ],
          [
           "PA",
           0.49651340201357796,
           0.4909139201572303
          ],
          [
           "WI",
           0.48120759754097875,
           0.5016228676322876
          ]
         ],
         "geo": "geo",
         "hovertemplate": "<b>%{hovertext}</b><br><br>Status=Toss-Up<br>state_code=%{customdata[0]}<br>Perc_Biden_2020=%{customdata[1]:.2%}<br>Perc_Trump_2020=%{customdata[2]:.2%}<extra></extra>",
         "hovertext": [
          "AZ",
          "FL",
          "GA",
          "MI",
          "NC",
          "PA",
          "WI"
         ],
         "locationmode": "USA-states",
         "locations": [
          "AZ",
          "FL",
          "GA",
          "MI",
          "NC",
          "PA",
          "WI"
         ],
         "name": "Toss-Up",
         "showlegend": true,
         "showscale": false,
         "type": "choropleth",
         "z": [
          1,
          1,
          1,
          1,
          1,
          1,
          1
         ]
        },
        {
         "colorscale": [
          [
           0,
           "#377eb8"
          ],
          [
           1,
           "#377eb8"
          ]
         ],
         "customdata": [
          [
           "CA",
           0.6369498707391632,
           0.34132041717847905
          ],
          [
           "CO",
           0.5478659342101286,
           0.42511678921265356
          ],
          [
           "CT",
           0.5880653922814821,
           0.3964167047650237
          ],
          [
           "DE",
           0.5765142928642788,
           0.4093213056357504
          ],
          [
           "DC",
           0.8997243096715947,
           0.07574584330962074
          ],
          [
           "HI",
           0.6376284513304684,
           0.34239658048151794
          ],
          [
           "IL",
           0.5687349830323657,
           0.4113863976940971
          ],
          [
           "MD",
           0.6419867002903444,
           0.33312286398791413
          ],
          [
           "MA",
           0.6472018671242009,
           0.33021787324054
          ],
          [
           "NJ",
           0.5743770169922922,
           0.4097112221295407
          ],
          [
           "NY",
           0.6045953194336097,
           0.3812489124527025
          ],
          [
           "OR",
           0.5455451949523499,
           0.4226604520515728
          ],
          [
           "RI",
           0.5810811781373196,
           0.3989026710598848
          ],
          [
           "VT",
           0.6187631232155713,
           0.3488386926503949
          ],
          [
           "WA",
           0.5710457483670399,
           0.3963270404194235
          ]
         ],
         "geo": "geo",
         "hovertemplate": "<b>%{hovertext}</b><br><br>Status=Safe Biden<br>state_code=%{customdata[0]}<br>Perc_Biden_2020=%{customdata[1]:.2%}<br>Perc_Trump_2020=%{customdata[2]:.2%}<extra></extra>",
         "hovertext": [
          "CA",
          "CO",
          "CT",
          "DE",
          "DC",
          "HI",
          "IL",
          "MD",
          "MA",
          "NJ",
          "NY",
          "OR",
          "RI",
          "VT",
          "WA"
         ],
         "locationmode": "USA-states",
         "locations": [
          "CA",
          "CO",
          "CT",
          "DE",
          "DC",
          "HI",
          "IL",
          "MD",
          "MA",
          "NJ",
          "NY",
          "OR",
          "RI",
          "VT",
          "WA"
         ],
         "name": "Safe Biden",
         "showlegend": true,
         "showscale": false,
         "type": "choropleth",
         "z": [
          1,
          1,
          1,
          1,
          1,
          1,
          1,
          1,
          1,
          1,
          1,
          1,
          1,
          1,
          1
         ]
        },
        {
         "colorscale": [
          [
           0,
           "#a3cef1"
          ],
          [
           1,
           "#a3cef1"
          ]
         ],
         "customdata": [
          [
           "ME",
           0.5071178740407088,
           0.46416533681288064
          ],
          [
           "MN",
           0.5134612439955889,
           0.4633391731935051
          ],
          [
           "NV",
           0.5057356375937541,
           0.4714946552246805
          ],
          [
           "NH",
           0.5183357574026308,
           0.4644408670395206
          ],
          [
           "NM",
           0.5313913290310827,
           0.44653037533013856
          ],
          [
           "VA",
           0.5339990164211992,
           0.4470511920296468
          ]
         ],
         "geo": "geo",
         "hovertemplate": "<b>%{hovertext}</b><br><br>Status=Likely Biden<br>state_code=%{customdata[0]}<br>Perc_Biden_2020=%{customdata[1]:.2%}<br>Perc_Trump_2020=%{customdata[2]:.2%}<extra></extra>",
         "hovertext": [
          "ME",
          "MN",
          "NV",
          "NH",
          "NM",
          "VA"
         ],
         "locationmode": "USA-states",
         "locations": [
          "ME",
          "MN",
          "NV",
          "NH",
          "NM",
          "VA"
         ],
         "name": "Likely Biden",
         "showlegend": true,
         "showscale": false,
         "type": "choropleth",
         "z": [
          1,
          1,
          1,
          1,
          1,
          1
         ]
        },
        {
         "colorscale": [
          [
           0,
           "#d56062"
          ],
          [
           1,
           "#d56062"
          ]
         ],
         "customdata": [
          [
           "OH",
           0.4503121042273335,
           0.5347942801884633
          ],
          [
           "TX",
           0.47169354076052494,
           0.5134240308478754
          ]
         ],
         "geo": "geo",
         "hovertemplate": "<b>%{hovertext}</b><br><br>Status=Likely Trump<br>state_code=%{customdata[0]}<br>Perc_Biden_2020=%{customdata[1]:.2%}<br>Perc_Trump_2020=%{customdata[2]:.2%}<extra></extra>",
         "hovertext": [
          "OH",
          "TX"
         ],
         "locationmode": "USA-states",
         "locations": [
          "OH",
          "TX"
         ],
         "name": "Likely Trump",
         "showlegend": true,
         "showscale": false,
         "type": "choropleth",
         "z": [
          1,
          1
         ]
        }
       ],
       "layout": {
        "geo": {
         "center": {},
         "domain": {
          "x": [
           0,
           1
          ],
          "y": [
           0,
           1
          ]
         },
         "fitbounds": "locations",
         "scope": "usa",
         "visible": false
        },
        "legend": {
         "title": {
          "text": "Status"
         },
         "tracegroupgap": 0
        },
        "template": {
         "data": {
          "bar": [
           {
            "error_x": {
             "color": "#2a3f5f"
            },
            "error_y": {
             "color": "#2a3f5f"
            },
            "marker": {
             "line": {
              "color": "#E5ECF6",
              "width": 0.5
             },
             "pattern": {
              "fillmode": "overlay",
              "size": 10,
              "solidity": 0.2
             }
            },
            "type": "bar"
           }
          ],
          "barpolar": [
           {
            "marker": {
             "line": {
              "color": "#E5ECF6",
              "width": 0.5
             },
             "pattern": {
              "fillmode": "overlay",
              "size": 10,
              "solidity": 0.2
             }
            },
            "type": "barpolar"
           }
          ],
          "carpet": [
           {
            "aaxis": {
             "endlinecolor": "#2a3f5f",
             "gridcolor": "white",
             "linecolor": "white",
             "minorgridcolor": "white",
             "startlinecolor": "#2a3f5f"
            },
            "baxis": {
             "endlinecolor": "#2a3f5f",
             "gridcolor": "white",
             "linecolor": "white",
             "minorgridcolor": "white",
             "startlinecolor": "#2a3f5f"
            },
            "type": "carpet"
           }
          ],
          "choropleth": [
           {
            "colorbar": {
             "outlinewidth": 0,
             "ticks": ""
            },
            "type": "choropleth"
           }
          ],
          "contour": [
           {
            "colorbar": {
             "outlinewidth": 0,
             "ticks": ""
            },
            "colorscale": [
             [
              0,
              "#0d0887"
             ],
             [
              0.1111111111111111,
              "#46039f"
             ],
             [
              0.2222222222222222,
              "#7201a8"
             ],
             [
              0.3333333333333333,
              "#9c179e"
             ],
             [
              0.4444444444444444,
              "#bd3786"
             ],
             [
              0.5555555555555556,
              "#d8576b"
             ],
             [
              0.6666666666666666,
              "#ed7953"
             ],
             [
              0.7777777777777778,
              "#fb9f3a"
             ],
             [
              0.8888888888888888,
              "#fdca26"
             ],
             [
              1,
              "#f0f921"
             ]
            ],
            "type": "contour"
           }
          ],
          "contourcarpet": [
           {
            "colorbar": {
             "outlinewidth": 0,
             "ticks": ""
            },
            "type": "contourcarpet"
           }
          ],
          "heatmap": [
           {
            "colorbar": {
             "outlinewidth": 0,
             "ticks": ""
            },
            "colorscale": [
             [
              0,
              "#0d0887"
             ],
             [
              0.1111111111111111,
              "#46039f"
             ],
             [
              0.2222222222222222,
              "#7201a8"
             ],
             [
              0.3333333333333333,
              "#9c179e"
             ],
             [
              0.4444444444444444,
              "#bd3786"
             ],
             [
              0.5555555555555556,
              "#d8576b"
             ],
             [
              0.6666666666666666,
              "#ed7953"
             ],
             [
              0.7777777777777778,
              "#fb9f3a"
             ],
             [
              0.8888888888888888,
              "#fdca26"
             ],
             [
              1,
              "#f0f921"
             ]
            ],
            "type": "heatmap"
           }
          ],
          "heatmapgl": [
           {
            "colorbar": {
             "outlinewidth": 0,
             "ticks": ""
            },
            "colorscale": [
             [
              0,
              "#0d0887"
             ],
             [
              0.1111111111111111,
              "#46039f"
             ],
             [
              0.2222222222222222,
              "#7201a8"
             ],
             [
              0.3333333333333333,
              "#9c179e"
             ],
             [
              0.4444444444444444,
              "#bd3786"
             ],
             [
              0.5555555555555556,
              "#d8576b"
             ],
             [
              0.6666666666666666,
              "#ed7953"
             ],
             [
              0.7777777777777778,
              "#fb9f3a"
             ],
             [
              0.8888888888888888,
              "#fdca26"
             ],
             [
              1,
              "#f0f921"
             ]
            ],
            "type": "heatmapgl"
           }
          ],
          "histogram": [
           {
            "marker": {
             "pattern": {
              "fillmode": "overlay",
              "size": 10,
              "solidity": 0.2
             }
            },
            "type": "histogram"
           }
          ],
          "histogram2d": [
           {
            "colorbar": {
             "outlinewidth": 0,
             "ticks": ""
            },
            "colorscale": [
             [
              0,
              "#0d0887"
             ],
             [
              0.1111111111111111,
              "#46039f"
             ],
             [
              0.2222222222222222,
              "#7201a8"
             ],
             [
              0.3333333333333333,
              "#9c179e"
             ],
             [
              0.4444444444444444,
              "#bd3786"
             ],
             [
              0.5555555555555556,
              "#d8576b"
             ],
             [
              0.6666666666666666,
              "#ed7953"
             ],
             [
              0.7777777777777778,
              "#fb9f3a"
             ],
             [
              0.8888888888888888,
              "#fdca26"
             ],
             [
              1,
              "#f0f921"
             ]
            ],
            "type": "histogram2d"
           }
          ],
          "histogram2dcontour": [
           {
            "colorbar": {
             "outlinewidth": 0,
             "ticks": ""
            },
            "colorscale": [
             [
              0,
              "#0d0887"
             ],
             [
              0.1111111111111111,
              "#46039f"
             ],
             [
              0.2222222222222222,
              "#7201a8"
             ],
             [
              0.3333333333333333,
              "#9c179e"
             ],
             [
              0.4444444444444444,
              "#bd3786"
             ],
             [
              0.5555555555555556,
              "#d8576b"
             ],
             [
              0.6666666666666666,
              "#ed7953"
             ],
             [
              0.7777777777777778,
              "#fb9f3a"
             ],
             [
              0.8888888888888888,
              "#fdca26"
             ],
             [
              1,
              "#f0f921"
             ]
            ],
            "type": "histogram2dcontour"
           }
          ],
          "mesh3d": [
           {
            "colorbar": {
             "outlinewidth": 0,
             "ticks": ""
            },
            "type": "mesh3d"
           }
          ],
          "parcoords": [
           {
            "line": {
             "colorbar": {
              "outlinewidth": 0,
              "ticks": ""
             }
            },
            "type": "parcoords"
           }
          ],
          "pie": [
           {
            "automargin": true,
            "type": "pie"
           }
          ],
          "scatter": [
           {
            "fillpattern": {
             "fillmode": "overlay",
             "size": 10,
             "solidity": 0.2
            },
            "type": "scatter"
           }
          ],
          "scatter3d": [
           {
            "line": {
             "colorbar": {
              "outlinewidth": 0,
              "ticks": ""
             }
            },
            "marker": {
             "colorbar": {
              "outlinewidth": 0,
              "ticks": ""
             }
            },
            "type": "scatter3d"
           }
          ],
          "scattercarpet": [
           {
            "marker": {
             "colorbar": {
              "outlinewidth": 0,
              "ticks": ""
             }
            },
            "type": "scattercarpet"
           }
          ],
          "scattergeo": [
           {
            "marker": {
             "colorbar": {
              "outlinewidth": 0,
              "ticks": ""
             }
            },
            "type": "scattergeo"
           }
          ],
          "scattergl": [
           {
            "marker": {
             "colorbar": {
              "outlinewidth": 0,
              "ticks": ""
             }
            },
            "type": "scattergl"
           }
          ],
          "scattermapbox": [
           {
            "marker": {
             "colorbar": {
              "outlinewidth": 0,
              "ticks": ""
             }
            },
            "type": "scattermapbox"
           }
          ],
          "scatterpolar": [
           {
            "marker": {
             "colorbar": {
              "outlinewidth": 0,
              "ticks": ""
             }
            },
            "type": "scatterpolar"
           }
          ],
          "scatterpolargl": [
           {
            "marker": {
             "colorbar": {
              "outlinewidth": 0,
              "ticks": ""
             }
            },
            "type": "scatterpolargl"
           }
          ],
          "scatterternary": [
           {
            "marker": {
             "colorbar": {
              "outlinewidth": 0,
              "ticks": ""
             }
            },
            "type": "scatterternary"
           }
          ],
          "surface": [
           {
            "colorbar": {
             "outlinewidth": 0,
             "ticks": ""
            },
            "colorscale": [
             [
              0,
              "#0d0887"
             ],
             [
              0.1111111111111111,
              "#46039f"
             ],
             [
              0.2222222222222222,
              "#7201a8"
             ],
             [
              0.3333333333333333,
              "#9c179e"
             ],
             [
              0.4444444444444444,
              "#bd3786"
             ],
             [
              0.5555555555555556,
              "#d8576b"
             ],
             [
              0.6666666666666666,
              "#ed7953"
             ],
             [
              0.7777777777777778,
              "#fb9f3a"
             ],
             [
              0.8888888888888888,
              "#fdca26"
             ],
             [
              1,
              "#f0f921"
             ]
            ],
            "type": "surface"
           }
          ],
          "table": [
           {
            "cells": {
             "fill": {
              "color": "#EBF0F8"
             },
             "line": {
              "color": "white"
             }
            },
            "header": {
             "fill": {
              "color": "#C8D4E3"
             },
             "line": {
              "color": "white"
             }
            },
            "type": "table"
           }
          ]
         },
         "layout": {
          "annotationdefaults": {
           "arrowcolor": "#2a3f5f",
           "arrowhead": 0,
           "arrowwidth": 1
          },
          "autotypenumbers": "strict",
          "coloraxis": {
           "colorbar": {
            "outlinewidth": 0,
            "ticks": ""
           }
          },
          "colorscale": {
           "diverging": [
            [
             0,
             "#8e0152"
            ],
            [
             0.1,
             "#c51b7d"
            ],
            [
             0.2,
             "#de77ae"
            ],
            [
             0.3,
             "#f1b6da"
            ],
            [
             0.4,
             "#fde0ef"
            ],
            [
             0.5,
             "#f7f7f7"
            ],
            [
             0.6,
             "#e6f5d0"
            ],
            [
             0.7,
             "#b8e186"
            ],
            [
             0.8,
             "#7fbc41"
            ],
            [
             0.9,
             "#4d9221"
            ],
            [
             1,
             "#276419"
            ]
           ],
           "sequential": [
            [
             0,
             "#0d0887"
            ],
            [
             0.1111111111111111,
             "#46039f"
            ],
            [
             0.2222222222222222,
             "#7201a8"
            ],
            [
             0.3333333333333333,
             "#9c179e"
            ],
            [
             0.4444444444444444,
             "#bd3786"
            ],
            [
             0.5555555555555556,
             "#d8576b"
            ],
            [
             0.6666666666666666,
             "#ed7953"
            ],
            [
             0.7777777777777778,
             "#fb9f3a"
            ],
            [
             0.8888888888888888,
             "#fdca26"
            ],
            [
             1,
             "#f0f921"
            ]
           ],
           "sequentialminus": [
            [
             0,
             "#0d0887"
            ],
            [
             0.1111111111111111,
             "#46039f"
            ],
            [
             0.2222222222222222,
             "#7201a8"
            ],
            [
             0.3333333333333333,
             "#9c179e"
            ],
            [
             0.4444444444444444,
             "#bd3786"
            ],
            [
             0.5555555555555556,
             "#d8576b"
            ],
            [
             0.6666666666666666,
             "#ed7953"
            ],
            [
             0.7777777777777778,
             "#fb9f3a"
            ],
            [
             0.8888888888888888,
             "#fdca26"
            ],
            [
             1,
             "#f0f921"
            ]
           ]
          },
          "colorway": [
           "#636efa",
           "#EF553B",
           "#00cc96",
           "#ab63fa",
           "#FFA15A",
           "#19d3f3",
           "#FF6692",
           "#B6E880",
           "#FF97FF",
           "#FECB52"
          ],
          "font": {
           "color": "#2a3f5f"
          },
          "geo": {
           "bgcolor": "white",
           "lakecolor": "white",
           "landcolor": "#E5ECF6",
           "showlakes": true,
           "showland": true,
           "subunitcolor": "white"
          },
          "hoverlabel": {
           "align": "left"
          },
          "hovermode": "closest",
          "mapbox": {
           "style": "light"
          },
          "paper_bgcolor": "white",
          "plot_bgcolor": "#E5ECF6",
          "polar": {
           "angularaxis": {
            "gridcolor": "white",
            "linecolor": "white",
            "ticks": ""
           },
           "bgcolor": "#E5ECF6",
           "radialaxis": {
            "gridcolor": "white",
            "linecolor": "white",
            "ticks": ""
           }
          },
          "scene": {
           "xaxis": {
            "backgroundcolor": "#E5ECF6",
            "gridcolor": "white",
            "gridwidth": 2,
            "linecolor": "white",
            "showbackground": true,
            "ticks": "",
            "zerolinecolor": "white"
           },
           "yaxis": {
            "backgroundcolor": "#E5ECF6",
            "gridcolor": "white",
            "gridwidth": 2,
            "linecolor": "white",
            "showbackground": true,
            "ticks": "",
            "zerolinecolor": "white"
           },
           "zaxis": {
            "backgroundcolor": "#E5ECF6",
            "gridcolor": "white",
            "gridwidth": 2,
            "linecolor": "white",
            "showbackground": true,
            "ticks": "",
            "zerolinecolor": "white"
           }
          },
          "shapedefaults": {
           "line": {
            "color": "#2a3f5f"
           }
          },
          "ternary": {
           "aaxis": {
            "gridcolor": "white",
            "linecolor": "white",
            "ticks": ""
           },
           "baxis": {
            "gridcolor": "white",
            "linecolor": "white",
            "ticks": ""
           },
           "bgcolor": "#E5ECF6",
           "caxis": {
            "gridcolor": "white",
            "linecolor": "white",
            "ticks": ""
           }
          },
          "title": {
           "x": 0.05
          },
          "xaxis": {
           "automargin": true,
           "gridcolor": "white",
           "linecolor": "white",
           "ticks": "",
           "title": {
            "standoff": 15
           },
           "zerolinecolor": "white",
           "zerolinewidth": 2
          },
          "yaxis": {
           "automargin": true,
           "gridcolor": "white",
           "linecolor": "white",
           "ticks": "",
           "title": {
            "standoff": 15
           },
           "zerolinecolor": "white",
           "zerolinewidth": 2
          }
         }
        },
        "title": {
         "text": "Status de los Estados en las Simulaciones - Elecciones Presidenciales 2020"
        }
       }
      }
     },
     "metadata": {},
     "output_type": "display_data"
    }
   ],
   "source": [
    "# Crear el mapa coroplético usando Plotly Express con códigos de estado\n",
    "fig = px.choropleth(accumulated_pred_state,\n",
    "                    locations='state_code',  # Usar la nueva columna con códigos de estado\n",
    "                    locationmode=\"USA-states\",  # Modo de localización para los códigos de estado\n",
    "                    color='Status',  # Métrica que deseas visualizar\n",
    "                    hover_name='state_code',  # Mostrar el código del estado en hover\n",
    "                    hover_data={\n",
    "                        'state_code': True,  # Mostrar el código del estado\n",
    "                        'Perc_Biden_2020': ':.2%',  # Mostrar el porcentaje de Biden en formato de porcentaje\n",
    "                        'Perc_Trump_2020': ':.2%'  # Mostrar el porcentaje de Trump en formato de porcentaje\n",
    "                    },\n",
    "                    scope='usa',  # Limitar el mapa a EE.UU.\n",
    "                    color_discrete_map={'Safe Biden': '#377eb8', \n",
    "                                        'Likely Biden': '#a3cef1', \n",
    "                                        'Toss-Up': '#b6b164', \n",
    "                                        'Likely Trump': '#d56062', \n",
    "                                        'Safe Trump': '#e41a1c'},\n",
    "                    labels={'Winner': 'Ganador 2020'},  # Etiqueta para la barra de color\n",
    "                    title=\"Status de los Estados en las Simulaciones - Elecciones Presidenciales 2020\"\n",
    "                   )\n",
    "\n",
    "# # Crear un nuevo rastro para añadir los códigos de los estados en el mapa\n",
    "# fig.add_trace(go.Scattergeo(\n",
    "#     locationmode='USA-states',\n",
    "#     locations=accumulated_pred_state['state_code'],  # Usar los códigos de los estados\n",
    "#     text=accumulated_pred_state['state_code'],  # Mostrar los códigos dentro del mapa\n",
    "#     mode='text',  # Solo texto\n",
    "#     textfont=dict(size=12, color=\"black\"),  # Tamaño y color de la fuente\n",
    "# ))\n",
    "\n",
    "# Ajustar visualización y mostrar el gráfico\n",
    "fig.update_geos(fitbounds=\"locations\", visible=False)  # Ajustar el mapa a las ubicaciones\n",
    "fig.show()\n"
   ]
  }
 ],
 "metadata": {
  "kernelspec": {
   "display_name": ".venv",
   "language": "python",
   "name": "python3"
  },
  "language_info": {
   "codemirror_mode": {
    "name": "ipython",
    "version": 3
   },
   "file_extension": ".py",
   "mimetype": "text/x-python",
   "name": "python",
   "nbconvert_exporter": "python",
   "pygments_lexer": "ipython3",
   "version": "3.11.2"
  }
 },
 "nbformat": 4,
 "nbformat_minor": 2
}
